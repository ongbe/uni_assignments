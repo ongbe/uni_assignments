{
 "cells": [
  {
   "cell_type": "markdown",
   "metadata": {},
   "source": [
    "**Zadanie 1** (2 punkty)<br/>\n",
    "\n",
    "Zaimplementuj  (w  dowolnym  j\n",
    "ę\n",
    "zyku  programowania)  algorytm  APRIORI  do  generowania\n",
    "reguł  asocjacyjnych.  Sprawd\n",
    "ź\n",
    "  działanie  algorytmu  na  wybranych  przez  siebie  dany\n",
    "ch \n",
    "(sztucznie  wygenerowanych  prostych  danych  testowych\n",
    "  oraz  wybranych  przez  siebie \n",
    "danych pochodz\n",
    "ą\n",
    "cych z UCI Machine Learning Repository). "
   ]
  },
  {
   "cell_type": "code",
   "execution_count": null,
   "metadata": {
    "collapsed": true
   },
   "outputs": [],
   "source": []
  },
  {
   "cell_type": "markdown",
   "metadata": {},
   "source": [
    "**Zadanie 2** (2 punkty)<br/>\n",
    "Znajd\n",
    "ź\n",
    "  ciekawe  reguły  asocjacyjne  w  zbiorze  danych  Retail\n",
    "  (stworzonym  przez  Toma \n",
    "Brijsa\n",
    "1\n",
    ").  U\n",
    "ż\n",
    "yj  własnej  implementacji  algorytmu  APRIORI  lub  jego\n",
    "  modyfikacji.  Uzasadnij \n",
    "dlaczego wskazane reguły uznajesz za ciekawe. "
   ]
  },
  {
   "cell_type": "code",
   "execution_count": null,
   "metadata": {
    "collapsed": true
   },
   "outputs": [],
   "source": []
  },
  {
   "cell_type": "markdown",
   "metadata": {},
   "source": [
    "**Zadanie 3** (2 punkty)<br/>\n",
    "Znajd\n",
    "ź\n",
    " ciekawe reguły asocjacyjne w zbiorze danych Kosara\n",
    "k (stworzonym przez Ferenca \n",
    "Bodona).  U\n",
    "ż\n",
    "yj  własnej  implementacji  algorytmu  APRIORI  lub  jego\n",
    "  modyfikacji.  Uzasadnij \n",
    "dlaczego wskazane reguły uznajesz za ciekawe. "
   ]
  },
  {
   "cell_type": "code",
   "execution_count": null,
   "metadata": {
    "collapsed": true
   },
   "outputs": [],
   "source": []
  },
  {
   "cell_type": "markdown",
   "metadata": {},
   "source": [
    "**Zadanie 4** (2 punkty)<br/>\n",
    "Znajd\n",
    "ź\n",
    " ciekawe reguły asocjacyjne w zbiorze danych Ta-Fen\n",
    "g. U\n",
    "ż\n",
    "yj własnej implementacji \n",
    "algorytmu  APRIORI  lub  jego  modyfikacji.  Uzasadnij  d\n",
    "laczego  wskazane  reguły  uznajesz \n",
    "za ciekawe. "
   ]
  },
  {
   "cell_type": "markdown",
   "metadata": {},
   "source": [
    "1: Transaction date and time (time invalid and useless)<br>\n",
    "2: Customer ID <br>\n",
    "3: Age: 10 possible values,<br>\n",
    "   A &lt;25,B 25-29,C 30-34,D 35-39,E 40-44,F 45-49,G 50-54,H 55-59,I 60-64,J &gt;65 <br>\n",
    "4: Residence Area: 8 possible values, <br>\n",
    "   A-F: zipcode area: 105,106,110,114,115,221,G: others, H: Unknown <br>\n",
    "   Distance to store, from the closest: 115,221,114,105,106,110 <br>\n",
    "5: Product subclass <br>\n",
    "6: Product ID <br>\n",
    "7: Amount <br>\n",
    "8: Asset <br>\n",
    "9: Sales price <br>"
   ]
  },
  {
   "cell_type": "code",
   "execution_count": null,
   "metadata": {
    "collapsed": true
   },
   "outputs": [],
   "source": []
  }
 ],
 "metadata": {
  "anaconda-cloud": {},
  "kernelspec": {
   "display_name": "Python 2",
   "language": "python",
   "name": "python2"
  },
  "language_info": {
   "codemirror_mode": {
    "name": "ipython",
    "version": 2
   },
   "file_extension": ".py",
   "mimetype": "text/x-python",
   "name": "python",
   "nbconvert_exporter": "python",
   "pygments_lexer": "ipython2",
   "version": "2.7.13"
  }
 },
 "nbformat": 4,
 "nbformat_minor": 2
}
