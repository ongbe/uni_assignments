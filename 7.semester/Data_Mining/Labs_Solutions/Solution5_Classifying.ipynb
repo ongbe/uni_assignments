{
 "cells": [
  {
   "cell_type": "markdown",
   "metadata": {
    "collapsed": true
   },
   "source": [
    "**Zadanie 1.** (1 punkt) <br/>\n",
    "a) Napisz własny klasyfikator K-Nearest Neighbours \n",
    "(KNN). Zadanie mo\n",
    "ż\n",
    "na wykona\n",
    "ć\n",
    " w Matlabie, \n",
    "Pythonie lub innym j\n",
    "ę\n",
    "zyku programowania. W zadaniu mo\n",
    "ż\n",
    "na u\n",
    "ż\n",
    "y\n",
    "ć\n",
    " wcze\n",
    "ś\n",
    "niej zaimplementowanej \n",
    "funkcji liczenia odległo\n",
    "ś\n",
    "ci (na przykład z zadania 0 z listy 3). <br/>\n",
    "b) Napisany klasyfikator KNN przetestuj na danych I\n",
    "RIS. Podziel dane losowo na dwie cz\n",
    "ęś\n",
    "ci: 100 \n",
    "wektorów  danych  u\n",
    "ż\n",
    "yj  jako  dane  ucz\n",
    "ą\n",
    "ce  do  stworzenia  klasyfikatora  i  50  wektorów  danych\n",
    "  u\n",
    "ż\n",
    "yj \n",
    "jako  dane  testowe  do  przetestowania  stworzonego  kla\n",
    "syfikatora.  Powtórz  ten  eksperyment \n",
    "kilkukrotnie i porównaj wyniki. <br/>\n",
    "c) Przeprowad\n",
    "ź\n",
    " te\n",
    "ż\n",
    " podobny test klasyfikatora KNN na danych Optical R\n",
    "ecognition of Handwritten \n",
    "Digits (https://archive.ics.uci.edu/ml/datasets/Optical+Recognition+of+Handwritten+Digits). <br/>\n",
    "d) Zrób cross validation klasyfikatora KNN na obu z\n",
    "estawach danych: podziel dane na 10 cz\n",
    "ęś\n",
    "ci, \n",
    "kolejno  bierz  jedn\n",
    "ą\n",
    "  z  nich,  traktuj  j\n",
    "ą\n",
    "  jako  dane  testowe,  a  pozostałe  9  cz\n",
    "ęś\n",
    "ci  jako  dane  ucz\n",
    "ą\n",
    "ce, \n",
    "stwórz  klasyfikator  na  danych  ucz\n",
    "ą\n",
    "cych  i  przetestuj  na  danych  testowych,  odnotuj  licz\n",
    "b\n",
    "ę\n",
    "  bł\n",
    "ę\n",
    "dów, \n",
    "powtórz  obliczenia  dla  kolejnych  cz\n",
    "ęś\n",
    "ci  danych,  policz  całkowity  bł\n",
    "ą\n",
    "d  klasyfikatora  sumuj\n",
    "ą\n",
    "c \n",
    "odnotowane liczby bł\n",
    "ę\n",
    "dów. "
   ]
  },
  {
   "cell_type": "code",
   "execution_count": 2,
   "metadata": {
    "collapsed": true
   },
   "outputs": [],
   "source": [
    "#1) shuffle\n",
    "#2) data split\n",
    "#3) distance calculation\n",
    "#4) knn predict\n",
    "#5) accuracy predict"
   ]
  },
  {
   "cell_type": "code",
   "execution_count": 32,
   "metadata": {
    "collapsed": true
   },
   "outputs": [],
   "source": [
    "# from sklearn import cross_validation\n",
    "# #import numpy as np\n",
    "# def knn_classify(dataset_data, dataset_target, test_size=0, k=3):\n",
    "#     print(dataset_data)\n",
    "#     print(dataset_target)\n",
    "#     x_train, x_test, y_train, y_test = cross_validation.train_test_split(dataset_data, dataset_target, test_size, random_state=1)\n",
    "#     train = np.array(zip(x_train,y_train))\n",
    "#     test = np.array(zip(x_test, y_test))\n",
    "#     nearest = calc_nearest(train, test, k)\n",
    "    \n",
    "# def calc_nearest(train, test, k):\n",
    "#     for i in test:\n",
    "#         for j in train:\n",
    "#             dist = np.dot((test-train).T, (test-train))\n",
    "#             print (dist)\n",
    "\n",
    "# # coord_difference = (points - centroids[:, np.newaxis, :])\n",
    "# #     #distances = np.sqrt((coord_difference**2).sum(axis=2)) #can be without sqrt()\n",
    "# #     distances = (coord_difference**2).sum(axis=2)"
   ]
  },
  {
   "cell_type": "code",
   "execution_count": 34,
   "metadata": {
    "collapsed": true
   },
   "outputs": [],
   "source": [
    "\n",
    "#knn_classify(iris.data[:10], iris.target[:10])\n"
   ]
  },
  {
   "cell_type": "markdown",
   "metadata": {},
   "source": [
    "**Zadanie 2.** (1 punkt) <br/>\n",
    "W  pakiecie  SciKit  do  Pythona  dost\n",
    "ę\n",
    "pnych  jest  kilka  popularnych  algorytmów  klasyfikacj\n",
    "i  danych \n",
    "przy  u\n",
    "ż\n",
    "yciu  drzew  klasyfikacyjnych.  Zapoznaj  si\n",
    "ę\n",
    "  z  nimi  wykonuj\n",
    "ą\n",
    "c  skrypt  umieszczony  w \n",
    "materiałach do wykładu. Do rysowania drzew u\n",
    "ż\n",
    "yj programu Graphviz. <br/>\n",
    "a) Jak\n",
    "ą\n",
    " miar\n",
    "ę\n",
    " ró\n",
    "ż\n",
    "norodno\n",
    "ś\n",
    "ci stosuje algorytm konstrukcji drzew klasyfikuj\n",
    "ą\n",
    "cych u\n",
    "ż\n",
    "yty w skrypcie? \n",
    "Dla danych Titanic sporz\n",
    "ą\n",
    "d\n",
    "ź\n",
    " drzewa klasyfikacyjne stosuj\n",
    "ą\n",
    "c indeks Giniego oraz entropi\n",
    "ę\n",
    ". <br/>\n",
    "b)  Podziel  dane  Titanic  na  dane  ucz\n",
    "ą\n",
    "ce  i  dane  testowe  (jak  w  zadaniu  1b),  stwórz  drzewa\n",
    "klasyfikacyjne na danych ucz\n",
    "ą\n",
    "cych i przetestuj na danych testowych. <br/>\n",
    "c)  Spróbuj  ograniczy\n",
    "ć\n",
    "  gł\n",
    "ę\n",
    "boko\n",
    "ść\n",
    "  drzewa.  Zobacz  jak  wpływa  to  na  wyniki  (zarówno  na\n",
    "  danych \n",
    "ucz\n",
    "ą\n",
    "cych jak i na danych testowych). <br/>\n",
    "d) Spróbuj przyci\n",
    "ąć\n",
    " drzewo technik\n",
    "ą\n",
    " omawian\n",
    "ą\n",
    " na wykładzie lub własn\n",
    "ą\n",
    ". Zobacz jak wpływa to na \n",
    "wyniki (zarówno na danych ucz\n",
    "ą\n",
    "cych jak i na danych testowych). <br/>\n",
    "e) Zrób cross validation wszystkich tworzonych w ty\n",
    "m zadaniu klasyfikatorów na zestawie danych \n",
    "Titanic. "
   ]
  },
  {
   "cell_type": "code",
   "execution_count": null,
   "metadata": {
    "collapsed": true
   },
   "outputs": [],
   "source": []
  },
  {
   "cell_type": "markdown",
   "metadata": {},
   "source": [
    "**Zadanie 3.** (2 punkty) <br/>\n",
    "Zapoznaj  si\n",
    "ę\n",
    "  z  implementacj\n",
    "ą\n",
    "  algorytmów  Random  Forest  i  Extremely  Randomized  Tr\n",
    "ees  w \n",
    "pakiecie SciKit (http://scikit-learn.org/stable/modules/ensemble.html#forest). U\n",
    "ż\n",
    "yj ich do klasyfikacji \n",
    "danych  IRIS  oraz  Titanic.  Oce\n",
    "ń\n",
    "  ich  skuteczno\n",
    "ść\n",
    "  dziel\n",
    "ą\n",
    "c  dane  na  dwa  zestawy  lub  robi\n",
    "ą\n",
    "c  cross \n",
    "validation. "
   ]
  },
  {
   "cell_type": "code",
   "execution_count": 3,
   "metadata": {
    "collapsed": true
   },
   "outputs": [],
   "source": [
    "from sklearn.model_selection import cross_val_score\n",
    "from sklearn.ensemble import RandomForestClassifier\n",
    "from sklearn.ensemble import ExtraTreesClassifier\n",
    "from sklearn.tree import DecisionTreeClassifier, export_graphviz\n",
    "from sklearn import tree\n",
    "import pandas as pd\n",
    "from sklearn.metrics import confusion_matrix"
   ]
  },
  {
   "cell_type": "code",
   "execution_count": 4,
   "metadata": {
    "collapsed": true
   },
   "outputs": [],
   "source": [
    "from sklearn.datasets import load_iris\n",
    "iris = load_iris()"
   ]
  },
  {
   "cell_type": "code",
   "execution_count": 10,
   "metadata": {
    "collapsed": false
   },
   "outputs": [
    {
     "name": "stdout",
     "output_type": "stream",
     "text": [
      "0.773333333333\n",
      "('Cross-validation for random decision tree for IRIS: ', 0.74019607843137258)\n",
      "0.96\n",
      "('Cross-validation for Random Forest for IRIS: ', 0.95343137254901966)\n",
      "0.94\n",
      "('Cross-validation for Extremely Randomized Trees for IRIS: ', 0.93300653594771232)\n"
     ]
    }
   ],
   "source": [
    "X = iris.data\n",
    "y = iris.target\n",
    "\n",
    "clf = DecisionTreeClassifier(max_depth=2, splitter='random', min_samples_split=2, random_state=2)\n",
    "clf = clf.fit(X, y)\n",
    "print (clf.score(X, y))\n",
    "scores = cross_val_score(clf, X, y)\n",
    "print('Cross-validation for random decision tree for IRIS: ', scores.mean())\n",
    "#confusion_matrix(y, y_pred)\n",
    "\n",
    "clf = RandomForestClassifier(n_estimators=4, max_depth=2, min_samples_split=2, random_state=2)\n",
    "clf = clf.fit(X, y)\n",
    "print (clf.score(X, y))\n",
    "scores = cross_val_score(clf, X, y)\n",
    "print('Cross-validation for Random Forest for IRIS: ', scores.mean()) \n",
    "\n",
    "clf = ExtraTreesClassifier(n_estimators=4, max_depth=2, min_samples_split=2, random_state=2)\n",
    "clf = clf.fit(X, y)\n",
    "print (clf.score(X, y))\n",
    "scores = cross_val_score(clf, X, y)\n",
    "print('Cross-validation for Extremely Randomized Trees for IRIS: ', scores.mean()) "
   ]
  },
  {
   "cell_type": "code",
   "execution_count": 187,
   "metadata": {
    "collapsed": false
   },
   "outputs": [
    {
     "name": "stderr",
     "output_type": "stream",
     "text": [
      "/pio/lscratch/1/os/anaconda/lib/python2.7/site-packages/ipykernel_launcher.py:4: FutureWarning: Categorical.from_array is deprecated, use Categorical instead\n",
      "  after removing the cwd from sys.path.\n",
      "/pio/lscratch/1/os/anaconda/lib/python2.7/site-packages/ipykernel_launcher.py:5: FutureWarning: Categorical.from_array is deprecated, use Categorical instead\n",
      "  \"\"\"\n"
     ]
    },
    {
     "data": {
      "text/html": [
       "<div>\n",
       "<style>\n",
       "    .dataframe thead tr:only-child th {\n",
       "        text-align: right;\n",
       "    }\n",
       "\n",
       "    .dataframe thead th {\n",
       "        text-align: left;\n",
       "    }\n",
       "\n",
       "    .dataframe tbody tr th {\n",
       "        vertical-align: top;\n",
       "    }\n",
       "</style>\n",
       "<table border=\"1\" class=\"dataframe\">\n",
       "  <thead>\n",
       "    <tr style=\"text-align: right;\">\n",
       "      <th></th>\n",
       "      <th>Survived</th>\n",
       "      <th>Pclass</th>\n",
       "      <th>Sex</th>\n",
       "      <th>Age</th>\n",
       "      <th>SibSp</th>\n",
       "      <th>Parch</th>\n",
       "      <th>Fare</th>\n",
       "      <th>Embarked</th>\n",
       "    </tr>\n",
       "  </thead>\n",
       "  <tbody>\n",
       "    <tr>\n",
       "      <th>0</th>\n",
       "      <td>0</td>\n",
       "      <td>3</td>\n",
       "      <td>1</td>\n",
       "      <td>22.0</td>\n",
       "      <td>1</td>\n",
       "      <td>0</td>\n",
       "      <td>7.2500</td>\n",
       "      <td>2</td>\n",
       "    </tr>\n",
       "    <tr>\n",
       "      <th>1</th>\n",
       "      <td>1</td>\n",
       "      <td>1</td>\n",
       "      <td>0</td>\n",
       "      <td>38.0</td>\n",
       "      <td>1</td>\n",
       "      <td>0</td>\n",
       "      <td>71.2833</td>\n",
       "      <td>0</td>\n",
       "    </tr>\n",
       "    <tr>\n",
       "      <th>2</th>\n",
       "      <td>1</td>\n",
       "      <td>3</td>\n",
       "      <td>0</td>\n",
       "      <td>26.0</td>\n",
       "      <td>0</td>\n",
       "      <td>0</td>\n",
       "      <td>7.9250</td>\n",
       "      <td>2</td>\n",
       "    </tr>\n",
       "    <tr>\n",
       "      <th>3</th>\n",
       "      <td>1</td>\n",
       "      <td>1</td>\n",
       "      <td>0</td>\n",
       "      <td>35.0</td>\n",
       "      <td>1</td>\n",
       "      <td>0</td>\n",
       "      <td>53.1000</td>\n",
       "      <td>2</td>\n",
       "    </tr>\n",
       "    <tr>\n",
       "      <th>4</th>\n",
       "      <td>0</td>\n",
       "      <td>3</td>\n",
       "      <td>1</td>\n",
       "      <td>35.0</td>\n",
       "      <td>0</td>\n",
       "      <td>0</td>\n",
       "      <td>8.0500</td>\n",
       "      <td>2</td>\n",
       "    </tr>\n",
       "  </tbody>\n",
       "</table>\n",
       "</div>"
      ],
      "text/plain": [
       "   Survived  Pclass  Sex   Age  SibSp  Parch     Fare  Embarked\n",
       "0         0       3    1  22.0      1      0   7.2500         2\n",
       "1         1       1    0  38.0      1      0  71.2833         0\n",
       "2         1       3    0  26.0      0      0   7.9250         2\n",
       "3         1       1    0  35.0      1      0  53.1000         2\n",
       "4         0       3    1  35.0      0      0   8.0500         2"
      ]
     },
     "execution_count": 187,
     "metadata": {},
     "output_type": "execute_result"
    }
   ],
   "source": [
    "data = pd.read_csv(\"train.csv\")\n",
    "data = data.drop(['PassengerId', 'Name', 'Ticket', 'Cabin'], axis = 1)\n",
    "data = data.dropna()\n",
    "data['Sex'] = pd.Categorical.from_array(data['Sex']).codes\n",
    "data['Embarked'] = pd.Categorical.from_array(data['Embarked']).codes\n",
    "data.head()"
   ]
  },
  {
   "cell_type": "code",
   "execution_count": 188,
   "metadata": {
    "collapsed": true
   },
   "outputs": [],
   "source": [
    "y = data['Survived']\n",
    "X = data.drop('Survived', axis = 1)"
   ]
  },
  {
   "cell_type": "code",
   "execution_count": 189,
   "metadata": {
    "collapsed": false
   },
   "outputs": [
    {
     "data": {
      "text/plain": [
       "0.9859550561797753"
      ]
     },
     "execution_count": 189,
     "metadata": {},
     "output_type": "execute_result"
    }
   ],
   "source": [
    "t = tree.DecisionTreeClassifier()\n",
    "t = t.fit(X, y)\n",
    "t.score(X, y)"
   ]
  },
  {
   "cell_type": "code",
   "execution_count": 190,
   "metadata": {
    "collapsed": false
   },
   "outputs": [
    {
     "name": "stdout",
     "output_type": "stream",
     "text": [
      "('Random decision tree for Titanic: ', 0.851123595505618)\n",
      "('Cross-validation for random decision tree for Titanic: ', 0.7893309222423146)\n",
      "('Random Forest for Titanic: ', 0.8679775280898876)\n",
      "('Cross-validation for Random Forest for Titanic: ', 0.78939001761041971)\n",
      "('Extremely Randomized Trees for Titanic: ', 0.827247191011236)\n",
      "('Cross-validation for Extremely Randomized Trees for Titanic: ', 0.78515878925409821)\n"
     ]
    }
   ],
   "source": [
    "t = DecisionTreeClassifier(max_depth=6, splitter='random', min_samples_split=2, random_state=2)\n",
    "t = t.fit(X, y)\n",
    "print('Random decision tree for Titanic: ', t.score(X, y))\n",
    "print('Cross-validation for random decision tree for Titanic: ', cross_val_score(t, X, y).mean())\n",
    "\n",
    "t = RandomForestClassifier(n_estimators=10, max_depth=6, min_samples_split=2, random_state=2)\n",
    "t = t.fit(X, y)\n",
    "print('Random Forest for Titanic: ', t.score(X, y))\n",
    "print('Cross-validation for Random Forest for Titanic: ', cross_val_score(t, X, y).mean())\n",
    "\n",
    "t = ExtraTreesClassifier(n_estimators=10, max_depth=6, min_samples_split=2, random_state=2)\n",
    "t = t.fit(X, y)\n",
    "print('Extremely Randomized Trees for Titanic: ',t.score(X, y))\n",
    "print('Cross-validation for Extremely Randomized Trees for Titanic: ', cross_val_score(t, X, y).mean())"
   ]
  },
  {
   "cell_type": "markdown",
   "metadata": {},
   "source": [
    "**Zadanie 4.** (2 punkty) <br/>\n",
    "Zbiór  danych  Mushroom  (http://archive.ics.uci.edu/ml/datasets/Mushroom)  zawiera  informacje  o \n",
    "grzybach i o tym czy s\n",
    "ą\n",
    " one jadalne, truj\n",
    "ą\n",
    "ce, nie polecane do jedzenia lub nieznane. Zapoznaj\n",
    " si\n",
    "ę\n",
    "z tym zbiorem danych i stwórz drzewo decyzyjne okre\n",
    "ś\n",
    "laj\n",
    "ą\n",
    "ce jadalno\n",
    "ść\n",
    " grzybów na podstawie ich \n",
    "cech okre\n",
    "ś\n",
    "lonych w zestawie danych. "
   ]
  },
  {
   "cell_type": "code",
   "execution_count": 27,
   "metadata": {
    "collapsed": false
   },
   "outputs": [
    {
     "name": "stderr",
     "output_type": "stream",
     "text": [
      "/pio/lscratch/1/os/anaconda/lib/python2.7/site-packages/ipykernel_launcher.py:3: FutureWarning: Categorical.from_array is deprecated, use Categorical instead\n",
      "  This is separate from the ipykernel package so we can avoid doing imports until\n"
     ]
    },
    {
     "data": {
      "text/html": [
       "<div>\n",
       "<style>\n",
       "    .dataframe thead tr:only-child th {\n",
       "        text-align: right;\n",
       "    }\n",
       "\n",
       "    .dataframe thead th {\n",
       "        text-align: left;\n",
       "    }\n",
       "\n",
       "    .dataframe tbody tr th {\n",
       "        vertical-align: top;\n",
       "    }\n",
       "</style>\n",
       "<table border=\"1\" class=\"dataframe\">\n",
       "  <thead>\n",
       "    <tr style=\"text-align: right;\">\n",
       "      <th></th>\n",
       "      <th>edible</th>\n",
       "      <th>cap-shape</th>\n",
       "      <th>cap-surface</th>\n",
       "      <th>cap-color</th>\n",
       "      <th>bruises</th>\n",
       "      <th>odor</th>\n",
       "      <th>gill-attachment</th>\n",
       "      <th>gill-spacing</th>\n",
       "      <th>gill-size</th>\n",
       "      <th>gill-color</th>\n",
       "      <th>...</th>\n",
       "      <th>stalk-surface-below-ring</th>\n",
       "      <th>stalk-color-above-ring</th>\n",
       "      <th>stalk-color-below-ring</th>\n",
       "      <th>veil-type</th>\n",
       "      <th>veil-color</th>\n",
       "      <th>ring-number</th>\n",
       "      <th>ring-type</th>\n",
       "      <th>spore-print-color</th>\n",
       "      <th>population</th>\n",
       "      <th>habitat</th>\n",
       "    </tr>\n",
       "  </thead>\n",
       "  <tbody>\n",
       "    <tr>\n",
       "      <th>0</th>\n",
       "      <td>1</td>\n",
       "      <td>5</td>\n",
       "      <td>2</td>\n",
       "      <td>4</td>\n",
       "      <td>1</td>\n",
       "      <td>6</td>\n",
       "      <td>1</td>\n",
       "      <td>0</td>\n",
       "      <td>1</td>\n",
       "      <td>4</td>\n",
       "      <td>...</td>\n",
       "      <td>2</td>\n",
       "      <td>7</td>\n",
       "      <td>7</td>\n",
       "      <td>0</td>\n",
       "      <td>2</td>\n",
       "      <td>1</td>\n",
       "      <td>4</td>\n",
       "      <td>2</td>\n",
       "      <td>3</td>\n",
       "      <td>5</td>\n",
       "    </tr>\n",
       "    <tr>\n",
       "      <th>1</th>\n",
       "      <td>0</td>\n",
       "      <td>5</td>\n",
       "      <td>2</td>\n",
       "      <td>9</td>\n",
       "      <td>1</td>\n",
       "      <td>0</td>\n",
       "      <td>1</td>\n",
       "      <td>0</td>\n",
       "      <td>0</td>\n",
       "      <td>4</td>\n",
       "      <td>...</td>\n",
       "      <td>2</td>\n",
       "      <td>7</td>\n",
       "      <td>7</td>\n",
       "      <td>0</td>\n",
       "      <td>2</td>\n",
       "      <td>1</td>\n",
       "      <td>4</td>\n",
       "      <td>3</td>\n",
       "      <td>2</td>\n",
       "      <td>1</td>\n",
       "    </tr>\n",
       "    <tr>\n",
       "      <th>2</th>\n",
       "      <td>0</td>\n",
       "      <td>0</td>\n",
       "      <td>2</td>\n",
       "      <td>8</td>\n",
       "      <td>1</td>\n",
       "      <td>3</td>\n",
       "      <td>1</td>\n",
       "      <td>0</td>\n",
       "      <td>0</td>\n",
       "      <td>5</td>\n",
       "      <td>...</td>\n",
       "      <td>2</td>\n",
       "      <td>7</td>\n",
       "      <td>7</td>\n",
       "      <td>0</td>\n",
       "      <td>2</td>\n",
       "      <td>1</td>\n",
       "      <td>4</td>\n",
       "      <td>3</td>\n",
       "      <td>2</td>\n",
       "      <td>3</td>\n",
       "    </tr>\n",
       "    <tr>\n",
       "      <th>3</th>\n",
       "      <td>1</td>\n",
       "      <td>5</td>\n",
       "      <td>3</td>\n",
       "      <td>8</td>\n",
       "      <td>1</td>\n",
       "      <td>6</td>\n",
       "      <td>1</td>\n",
       "      <td>0</td>\n",
       "      <td>1</td>\n",
       "      <td>5</td>\n",
       "      <td>...</td>\n",
       "      <td>2</td>\n",
       "      <td>7</td>\n",
       "      <td>7</td>\n",
       "      <td>0</td>\n",
       "      <td>2</td>\n",
       "      <td>1</td>\n",
       "      <td>4</td>\n",
       "      <td>2</td>\n",
       "      <td>3</td>\n",
       "      <td>5</td>\n",
       "    </tr>\n",
       "    <tr>\n",
       "      <th>4</th>\n",
       "      <td>0</td>\n",
       "      <td>5</td>\n",
       "      <td>2</td>\n",
       "      <td>3</td>\n",
       "      <td>0</td>\n",
       "      <td>5</td>\n",
       "      <td>1</td>\n",
       "      <td>1</td>\n",
       "      <td>0</td>\n",
       "      <td>4</td>\n",
       "      <td>...</td>\n",
       "      <td>2</td>\n",
       "      <td>7</td>\n",
       "      <td>7</td>\n",
       "      <td>0</td>\n",
       "      <td>2</td>\n",
       "      <td>1</td>\n",
       "      <td>0</td>\n",
       "      <td>3</td>\n",
       "      <td>0</td>\n",
       "      <td>1</td>\n",
       "    </tr>\n",
       "  </tbody>\n",
       "</table>\n",
       "<p>5 rows × 23 columns</p>\n",
       "</div>"
      ],
      "text/plain": [
       "   edible  cap-shape  cap-surface  cap-color  bruises  odor  gill-attachment  \\\n",
       "0       1          5            2          4        1     6                1   \n",
       "1       0          5            2          9        1     0                1   \n",
       "2       0          0            2          8        1     3                1   \n",
       "3       1          5            3          8        1     6                1   \n",
       "4       0          5            2          3        0     5                1   \n",
       "\n",
       "   gill-spacing  gill-size  gill-color   ...     stalk-surface-below-ring  \\\n",
       "0             0          1           4   ...                            2   \n",
       "1             0          0           4   ...                            2   \n",
       "2             0          0           5   ...                            2   \n",
       "3             0          1           5   ...                            2   \n",
       "4             1          0           4   ...                            2   \n",
       "\n",
       "   stalk-color-above-ring  stalk-color-below-ring  veil-type  veil-color  \\\n",
       "0                       7                       7          0           2   \n",
       "1                       7                       7          0           2   \n",
       "2                       7                       7          0           2   \n",
       "3                       7                       7          0           2   \n",
       "4                       7                       7          0           2   \n",
       "\n",
       "   ring-number  ring-type  spore-print-color  population  habitat  \n",
       "0            1          4                  2           3        5  \n",
       "1            1          4                  3           2        1  \n",
       "2            1          4                  3           2        3  \n",
       "3            1          4                  2           3        5  \n",
       "4            1          0                  3           0        1  \n",
       "\n",
       "[5 rows x 23 columns]"
      ]
     },
     "execution_count": 27,
     "metadata": {},
     "output_type": "execute_result"
    }
   ],
   "source": [
    "data = pd.read_csv(\"agaricus-lepiota.data\")\n",
    "for column in data.columns.values:\n",
    "    data[column] = pd.Categorical.from_array(data[column]).codes\n",
    "data.head()"
   ]
  },
  {
   "cell_type": "code",
   "execution_count": 28,
   "metadata": {
    "collapsed": true
   },
   "outputs": [],
   "source": [
    "y = data['edible']\n",
    "X = data.drop('edible', axis = 1)"
   ]
  },
  {
   "cell_type": "code",
   "execution_count": 29,
   "metadata": {
    "collapsed": false
   },
   "outputs": [
    {
     "name": "stdout",
     "output_type": "stream",
     "text": [
      "('Decision tree for Mushrooms: ', 1.0)\n",
      "('Cross-validation for Extremely Randomized Trees for Mushrooms: ', 0.87442843242099411)\n"
     ]
    }
   ],
   "source": [
    "t = tree.DecisionTreeClassifier()\n",
    "t = t.fit(X, y)\n",
    "print('Decision tree for Mushrooms: ', t.score(X, y))\n",
    "print('Cross-validation for Extremely Randomized Trees for Mushrooms: ', cross_val_score(t, X, y).mean())\n"
   ]
  },
  {
   "cell_type": "code",
   "execution_count": 30,
   "metadata": {
    "collapsed": true
   },
   "outputs": [],
   "source": [
    "from sklearn.model_selection import cross_val_predict\n",
    "from sklearn.metrics import confusion_matrix"
   ]
  },
  {
   "cell_type": "code",
   "execution_count": 32,
   "metadata": {
    "collapsed": false
   },
   "outputs": [
    {
     "data": {
      "text/plain": [
       "array([[4160,   48],\n",
       "       [ 256, 3660]])"
      ]
     },
     "execution_count": 32,
     "metadata": {},
     "output_type": "execute_result"
    }
   ],
   "source": [
    "y_pred = cross_val_predict(t,X,y,cv=10)\n",
    "conf_mat = confusion_matrix(y,y_pred)\n",
    "conf_mat"
   ]
  },
  {
   "cell_type": "code",
   "execution_count": 57,
   "metadata": {
    "collapsed": true
   },
   "outputs": [],
   "source": [
    "def visualize_tree(tree, feature_names):\n",
    "    \"\"\"Create tree png using graphviz.\n",
    "\n",
    "    Args\n",
    "    ----\n",
    "    tree -- scikit-learn DecsisionTree.\n",
    "    feature_names -- list of feature names.\n",
    "    \"\"\"\n",
    "    with open(\"dt.dot\", 'w') as f:\n",
    "        export_graphviz(tree, out_file=f,\n",
    "                        feature_names=feature_names)\n",
    "\n",
    "    command = [\"dot\", \"-Tpng\", \"dt.dot\", \"-o\", \"dt.png\"]\n",
    "    try:\n",
    "        subprocess.check_call(command)\n",
    "    except:\n",
    "        exit(\"Could not run dot, ie graphviz, to \"\n",
    "             \"produce visualization\")\n",
    "visualize_tree(t, data.columns.values[1:])"
   ]
  },
  {
   "cell_type": "markdown",
   "metadata": {},
   "source": [
    "**Zadanie 5.** (2 punkty) <br/>\n",
    "Zbiór   danych   Car   Evaluation   (http://archive.ics.uci.edu/ml/datasets/Car+Evaluation)   zawiera \n",
    "informacje o samochodach i rekomendacje dotycz\n",
    "ą\n",
    "c\n",
    "ą\n",
    " ich ewentualnego kupna. Zapoznaj si\n",
    "ę\n",
    " z tym \n",
    "zbiorem danych i stwórz dla niego drzewo decyzyjne."
   ]
  },
  {
   "cell_type": "code",
   "execution_count": 193,
   "metadata": {
    "collapsed": false
   },
   "outputs": [
    {
     "name": "stderr",
     "output_type": "stream",
     "text": [
      "/pio/lscratch/1/os/anaconda/lib/python2.7/site-packages/ipykernel_launcher.py:3: FutureWarning: Categorical.from_array is deprecated, use Categorical instead\n",
      "  This is separate from the ipykernel package so we can avoid doing imports until\n"
     ]
    },
    {
     "data": {
      "text/html": [
       "<div>\n",
       "<style>\n",
       "    .dataframe thead tr:only-child th {\n",
       "        text-align: right;\n",
       "    }\n",
       "\n",
       "    .dataframe thead th {\n",
       "        text-align: left;\n",
       "    }\n",
       "\n",
       "    .dataframe tbody tr th {\n",
       "        vertical-align: top;\n",
       "    }\n",
       "</style>\n",
       "<table border=\"1\" class=\"dataframe\">\n",
       "  <thead>\n",
       "    <tr style=\"text-align: right;\">\n",
       "      <th></th>\n",
       "      <th>buying</th>\n",
       "      <th>maint</th>\n",
       "      <th>doors</th>\n",
       "      <th>persons</th>\n",
       "      <th>lug_boot</th>\n",
       "      <th>safety</th>\n",
       "      <th>acceptability</th>\n",
       "    </tr>\n",
       "  </thead>\n",
       "  <tbody>\n",
       "    <tr>\n",
       "      <th>0</th>\n",
       "      <td>3</td>\n",
       "      <td>3</td>\n",
       "      <td>0</td>\n",
       "      <td>0</td>\n",
       "      <td>2</td>\n",
       "      <td>1</td>\n",
       "      <td>2</td>\n",
       "    </tr>\n",
       "    <tr>\n",
       "      <th>1</th>\n",
       "      <td>3</td>\n",
       "      <td>3</td>\n",
       "      <td>0</td>\n",
       "      <td>0</td>\n",
       "      <td>2</td>\n",
       "      <td>2</td>\n",
       "      <td>2</td>\n",
       "    </tr>\n",
       "    <tr>\n",
       "      <th>2</th>\n",
       "      <td>3</td>\n",
       "      <td>3</td>\n",
       "      <td>0</td>\n",
       "      <td>0</td>\n",
       "      <td>2</td>\n",
       "      <td>0</td>\n",
       "      <td>2</td>\n",
       "    </tr>\n",
       "    <tr>\n",
       "      <th>3</th>\n",
       "      <td>3</td>\n",
       "      <td>3</td>\n",
       "      <td>0</td>\n",
       "      <td>0</td>\n",
       "      <td>1</td>\n",
       "      <td>1</td>\n",
       "      <td>2</td>\n",
       "    </tr>\n",
       "    <tr>\n",
       "      <th>4</th>\n",
       "      <td>3</td>\n",
       "      <td>3</td>\n",
       "      <td>0</td>\n",
       "      <td>0</td>\n",
       "      <td>1</td>\n",
       "      <td>2</td>\n",
       "      <td>2</td>\n",
       "    </tr>\n",
       "  </tbody>\n",
       "</table>\n",
       "</div>"
      ],
      "text/plain": [
       "   buying  maint  doors  persons  lug_boot  safety  acceptability\n",
       "0       3      3      0        0         2       1              2\n",
       "1       3      3      0        0         2       2              2\n",
       "2       3      3      0        0         2       0              2\n",
       "3       3      3      0        0         1       1              2\n",
       "4       3      3      0        0         1       2              2"
      ]
     },
     "execution_count": 193,
     "metadata": {},
     "output_type": "execute_result"
    }
   ],
   "source": [
    "data = pd.read_csv(\"car.data\")\n",
    "for column in data.columns.values:\n",
    "    data[column] = pd.Categorical.from_array(data[column]).codes\n",
    "data.head()"
   ]
  },
  {
   "cell_type": "code",
   "execution_count": 194,
   "metadata": {
    "collapsed": true
   },
   "outputs": [],
   "source": [
    "y = data['acceptability']\n",
    "X = data.drop('acceptability', axis = 1)"
   ]
  },
  {
   "cell_type": "code",
   "execution_count": 195,
   "metadata": {
    "collapsed": false
   },
   "outputs": [
    {
     "name": "stdout",
     "output_type": "stream",
     "text": [
      "('Decision tree for Cars: ', 1.0)\n",
      "('Cross-validation for Extremely Randomized Trees for Cars: ', 0.78939060419963314)\n"
     ]
    }
   ],
   "source": [
    "t = tree.DecisionTreeClassifier()\n",
    "t = t.fit(X, y)\n",
    "print('Decision tree for Cars: ', t.score(X, y))\n",
    "print('Cross-validation for Extremely Randomized Trees for Cars: ', cross_val_score(t, X, y).mean())"
   ]
  },
  {
   "cell_type": "raw",
   "metadata": {},
   "source": [
    "   class      N          N[%]\n",
    "   -----------------------------\n",
    "   unacc     1210     (70.023 %) \n",
    "   acc        384     (22.222 %) \n",
    "   good        69     ( 3.993 %) \n",
    "   v-good      65     ( 3.762 %)"
   ]
  },
  {
   "cell_type": "code",
   "execution_count": 196,
   "metadata": {
    "collapsed": false
   },
   "outputs": [
    {
     "data": {
      "text/plain": [
       "array([[ 269,   30,   74,   11],\n",
       "       [   7,   55,    3,    4],\n",
       "       [  91,    2, 1117,    0],\n",
       "       [   6,    1,    0,   58]])"
      ]
     },
     "execution_count": 196,
     "metadata": {},
     "output_type": "execute_result"
    }
   ],
   "source": [
    "y_pred = cross_val_predict(t,X,y,cv=10)\n",
    "conf_mat = confusion_matrix(y,y_pred)\n",
    "conf_mat"
   ]
  },
  {
   "cell_type": "code",
   "execution_count": 197,
   "metadata": {
    "collapsed": true
   },
   "outputs": [],
   "source": [
    "visualize_tree(t, data.columns.values[:-1])"
   ]
  },
  {
   "cell_type": "code",
   "execution_count": 200,
   "metadata": {
    "collapsed": false
   },
   "outputs": [
    {
     "name": "stdout",
     "output_type": "stream",
     "text": [
      "('Decision tree for Cars: ', 1.0)\n",
      "('Cross-validation for Extremely Randomized Trees for Cars: ', 0.82183826576746277)\n"
     ]
    },
    {
     "data": {
      "text/plain": [
       "array([[ 297,   21,   53,   13],\n",
       "       [  14,   51,    4,    0],\n",
       "       [ 128,    3, 1079,    0],\n",
       "       [   8,    0,    0,   57]])"
      ]
     },
     "execution_count": 200,
     "metadata": {},
     "output_type": "execute_result"
    }
   ],
   "source": [
    "t = tree.DecisionTreeClassifier(class_weight={0:2,1:10,2:1,3:10})\n",
    "t = t.fit(X, y)\n",
    "print('Decision tree for Cars: ', t.score(X, y))\n",
    "print('Cross-validation for Extremely Randomized Trees for Cars: ', cross_val_score(t, X, y).mean())\n",
    "y_pred = cross_val_predict(t,X,y,cv=10)\n",
    "conf_mat = confusion_matrix(y,y_pred)\n",
    "conf_mat"
   ]
  },
  {
   "cell_type": "code",
   "execution_count": null,
   "metadata": {
    "collapsed": true
   },
   "outputs": [],
   "source": []
  },
  {
   "cell_type": "markdown",
   "metadata": {},
   "source": [
    "**Zadanie 6.** (2 punkty) <br/>\n",
    "Zbiór   danych   Bank   Marketing   (http://archive.ics.uci.edu/ml/datasets/Bank+Marketing)   zawiera \n",
    "informacje  o  klientach  banku  i  ich  zainteresowaniu \n",
    "lokatami  bankowymi.  Zapoznaj  si\n",
    "ę\n",
    "  z  tym \n",
    "zbiorem danych i na jego podstawie stwórz drzewo de\n",
    "cyzyjne pozwalaj\n",
    "ą\n",
    "ce przewidywa\n",
    "ć\n",
    " czy klient \n",
    "banku b\n",
    "ę\n",
    "dzie zainteresowany lokatami czy nie na podstawie z\n",
    "gromadzonych o nim informacji. "
   ]
  },
  {
   "cell_type": "code",
   "execution_count": 58,
   "metadata": {
    "collapsed": false
   },
   "outputs": [
    {
     "name": "stderr",
     "output_type": "stream",
     "text": [
      "/pio/lscratch/1/os/anaconda/lib/python2.7/site-packages/ipykernel_launcher.py:3: FutureWarning: Categorical.from_array is deprecated, use Categorical instead\n",
      "  This is separate from the ipykernel package so we can avoid doing imports until\n"
     ]
    },
    {
     "data": {
      "text/html": [
       "<div>\n",
       "<style>\n",
       "    .dataframe thead tr:only-child th {\n",
       "        text-align: right;\n",
       "    }\n",
       "\n",
       "    .dataframe thead th {\n",
       "        text-align: left;\n",
       "    }\n",
       "\n",
       "    .dataframe tbody tr th {\n",
       "        vertical-align: top;\n",
       "    }\n",
       "</style>\n",
       "<table border=\"1\" class=\"dataframe\">\n",
       "  <thead>\n",
       "    <tr style=\"text-align: right;\">\n",
       "      <th></th>\n",
       "      <th>age</th>\n",
       "      <th>job</th>\n",
       "      <th>marital</th>\n",
       "      <th>education</th>\n",
       "      <th>default</th>\n",
       "      <th>balance</th>\n",
       "      <th>housing</th>\n",
       "      <th>loan</th>\n",
       "      <th>contact</th>\n",
       "      <th>day</th>\n",
       "      <th>month</th>\n",
       "      <th>duration</th>\n",
       "      <th>campaign</th>\n",
       "      <th>pdays</th>\n",
       "      <th>previous</th>\n",
       "      <th>poutcome</th>\n",
       "      <th>y</th>\n",
       "    </tr>\n",
       "  </thead>\n",
       "  <tbody>\n",
       "    <tr>\n",
       "      <th>0</th>\n",
       "      <td>11</td>\n",
       "      <td>10</td>\n",
       "      <td>1</td>\n",
       "      <td>0</td>\n",
       "      <td>0</td>\n",
       "      <td>1475</td>\n",
       "      <td>0</td>\n",
       "      <td>0</td>\n",
       "      <td>0</td>\n",
       "      <td>18</td>\n",
       "      <td>10</td>\n",
       "      <td>75</td>\n",
       "      <td>0</td>\n",
       "      <td>0</td>\n",
       "      <td>0</td>\n",
       "      <td>3</td>\n",
       "      <td>0</td>\n",
       "    </tr>\n",
       "    <tr>\n",
       "      <th>1</th>\n",
       "      <td>14</td>\n",
       "      <td>7</td>\n",
       "      <td>1</td>\n",
       "      <td>1</td>\n",
       "      <td>0</td>\n",
       "      <td>2030</td>\n",
       "      <td>1</td>\n",
       "      <td>1</td>\n",
       "      <td>0</td>\n",
       "      <td>10</td>\n",
       "      <td>8</td>\n",
       "      <td>216</td>\n",
       "      <td>0</td>\n",
       "      <td>228</td>\n",
       "      <td>4</td>\n",
       "      <td>0</td>\n",
       "      <td>0</td>\n",
       "    </tr>\n",
       "    <tr>\n",
       "      <th>2</th>\n",
       "      <td>16</td>\n",
       "      <td>4</td>\n",
       "      <td>2</td>\n",
       "      <td>2</td>\n",
       "      <td>0</td>\n",
       "      <td>1303</td>\n",
       "      <td>1</td>\n",
       "      <td>0</td>\n",
       "      <td>0</td>\n",
       "      <td>15</td>\n",
       "      <td>0</td>\n",
       "      <td>181</td>\n",
       "      <td>0</td>\n",
       "      <td>219</td>\n",
       "      <td>1</td>\n",
       "      <td>0</td>\n",
       "      <td>0</td>\n",
       "    </tr>\n",
       "    <tr>\n",
       "      <th>3</th>\n",
       "      <td>11</td>\n",
       "      <td>4</td>\n",
       "      <td>1</td>\n",
       "      <td>2</td>\n",
       "      <td>0</td>\n",
       "      <td>1352</td>\n",
       "      <td>1</td>\n",
       "      <td>1</td>\n",
       "      <td>2</td>\n",
       "      <td>2</td>\n",
       "      <td>6</td>\n",
       "      <td>195</td>\n",
       "      <td>3</td>\n",
       "      <td>0</td>\n",
       "      <td>0</td>\n",
       "      <td>3</td>\n",
       "      <td>0</td>\n",
       "    </tr>\n",
       "    <tr>\n",
       "      <th>4</th>\n",
       "      <td>40</td>\n",
       "      <td>1</td>\n",
       "      <td>1</td>\n",
       "      <td>1</td>\n",
       "      <td>0</td>\n",
       "      <td>274</td>\n",
       "      <td>1</td>\n",
       "      <td>0</td>\n",
       "      <td>2</td>\n",
       "      <td>4</td>\n",
       "      <td>8</td>\n",
       "      <td>222</td>\n",
       "      <td>0</td>\n",
       "      <td>0</td>\n",
       "      <td>0</td>\n",
       "      <td>3</td>\n",
       "      <td>0</td>\n",
       "    </tr>\n",
       "  </tbody>\n",
       "</table>\n",
       "</div>"
      ],
      "text/plain": [
       "   age  job  marital  education  default  balance  housing  loan  contact  \\\n",
       "0   11   10        1          0        0     1475        0     0        0   \n",
       "1   14    7        1          1        0     2030        1     1        0   \n",
       "2   16    4        2          2        0     1303        1     0        0   \n",
       "3   11    4        1          2        0     1352        1     1        2   \n",
       "4   40    1        1          1        0      274        1     0        2   \n",
       "\n",
       "   day  month  duration  campaign  pdays  previous  poutcome  y  \n",
       "0   18     10        75         0      0         0         3  0  \n",
       "1   10      8       216         0    228         4         0  0  \n",
       "2   15      0       181         0    219         1         0  0  \n",
       "3    2      6       195         3      0         0         3  0  \n",
       "4    4      8       222         0      0         0         3  0  "
      ]
     },
     "execution_count": 58,
     "metadata": {},
     "output_type": "execute_result"
    }
   ],
   "source": [
    "data = pd.read_csv(\"bank.csv\", sep=';')\n",
    "for column in data.columns.values:\n",
    "    data[column] = pd.Categorical.from_array(data[column]).codes\n",
    "data.head()"
   ]
  },
  {
   "cell_type": "code",
   "execution_count": 59,
   "metadata": {
    "collapsed": true
   },
   "outputs": [],
   "source": [
    "y = data['y']\n",
    "X = data.drop('y', axis = 1)"
   ]
  },
  {
   "cell_type": "code",
   "execution_count": 60,
   "metadata": {
    "collapsed": false
   },
   "outputs": [
    {
     "name": "stdout",
     "output_type": "stream",
     "text": [
      "('Decision tree for Deposits: ', 1.0)\n",
      "('Cross-validation for Extremely Randomized Trees for Deposits: ', 0.86175796842844232)\n"
     ]
    }
   ],
   "source": [
    "t = tree.DecisionTreeClassifier()\n",
    "t = t.fit(X, y)\n",
    "print('Decision tree for Deposits: ', t.score(X, y))\n",
    "print('Cross-validation for Extremely Randomized Trees for Deposits: ', cross_val_score(t, X, y).mean())"
   ]
  },
  {
   "cell_type": "code",
   "execution_count": 61,
   "metadata": {
    "collapsed": false
   },
   "outputs": [
    {
     "data": {
      "text/plain": [
       "array([[3698,  302],\n",
       "       [ 299,  222]])"
      ]
     },
     "execution_count": 61,
     "metadata": {},
     "output_type": "execute_result"
    }
   ],
   "source": [
    "y_pred = cross_val_predict(t,X,y,cv=10)\n",
    "conf_mat = confusion_matrix(y,y_pred)\n",
    "conf_mat"
   ]
  },
  {
   "cell_type": "code",
   "execution_count": 62,
   "metadata": {
    "collapsed": true
   },
   "outputs": [],
   "source": [
    "visualize_tree(t, data.columns.values[:-1])"
   ]
  },
  {
   "cell_type": "code",
   "execution_count": 63,
   "metadata": {
    "collapsed": true
   },
   "outputs": [],
   "source": [
    "data = data.drop(['contact', 'day', 'month'], axis = 1)\n",
    "data = data.dropna()\n",
    "data.head()\n",
    "y = data['y']\n",
    "X = data.drop('y', axis = 1)"
   ]
  },
  {
   "cell_type": "code",
   "execution_count": 182,
   "metadata": {
    "collapsed": false
   },
   "outputs": [
    {
     "name": "stdout",
     "output_type": "stream",
     "text": [
      "('Decision tree for Deposits: ', 1.0)\n",
      "('Cross-validation for Extremely Randomized Trees for Deposits: ', 0.85511639599391287)\n"
     ]
    },
    {
     "data": {
      "text/plain": [
       "array([[3698,  302],\n",
       "       [ 336,  185]])"
      ]
     },
     "execution_count": 182,
     "metadata": {},
     "output_type": "execute_result"
    }
   ],
   "source": [
    "t = DecisionTreeClassifier(max_features='auto', class_weight={0:1,1:5})\n",
    "t = t.fit(X, y)\n",
    "print('Decision tree for Deposits: ', t.score(X, y))\n",
    "print('Cross-validation for Extremely Randomized Trees for Deposits: ', cross_val_score(t, X, y).mean())\n",
    "y_pred = cross_val_predict(t,X,y,cv=10)\n",
    "conf_mat = confusion_matrix(y,y_pred)\n",
    "conf_mat"
   ]
  },
  {
   "cell_type": "code",
   "execution_count": null,
   "metadata": {
    "collapsed": true
   },
   "outputs": [],
   "source": []
  },
  {
   "cell_type": "markdown",
   "metadata": {},
   "source": [
    "**Zadanie 7.** (2 punkty bonusowe)\n",
    "Zapoznaj    si\n",
    "ę\n",
    "    ze    zbiorem    danych    Human    Activity    Recognition    Using\n",
    "    Smartphones \n",
    "(http://archive.ics.uci.edu/ml/datasets/Human+Activity+Recognition+Using+Smartphones).  Spróbuj \n",
    "stworzy\n",
    "ć\n",
    "  klasyfikator,  który  b\n",
    "ę\n",
    "dzie  rozpoznawał  czynno\n",
    "ść\n",
    "  wykonywan\n",
    "ą\n",
    "  przez  człowieka  na \n",
    "podstawie odczytów sensorów okre\n",
    "ś\n",
    "lonych w zestawie danych. "
   ]
  },
  {
   "cell_type": "code",
   "execution_count": null,
   "metadata": {
    "collapsed": true
   },
   "outputs": [],
   "source": []
  }
 ],
 "metadata": {
  "anaconda-cloud": {},
  "kernelspec": {
   "display_name": "Python 2",
   "language": "python",
   "name": "python2"
  },
  "language_info": {
   "codemirror_mode": {
    "name": "ipython",
    "version": 2
   },
   "file_extension": ".py",
   "mimetype": "text/x-python",
   "name": "python",
   "nbconvert_exporter": "python",
   "pygments_lexer": "ipython2",
   "version": "2.7.13"
  }
 },
 "nbformat": 4,
 "nbformat_minor": 2
}
