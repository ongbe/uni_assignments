{
 "cells": [
  {
   "cell_type": "code",
   "execution_count": 21,
   "metadata": {
    "collapsed": true
   },
   "outputs": [],
   "source": [
    "import pandas as pd\n",
    "import numpy as np\n",
    "import math\n",
    "\n",
    "ratings_path = \"./ml-latest-small/ratings.csv\"\n",
    "movies_path = \"./ml-latest-small/movies.csv\"\n",
    "tags_path = \"./ml-latest-small/tags.csv\"\n",
    "similar_users_path = \"./similar_users.csv\"\n",
    "user_coefficients_path = \"./user_coefficients.csv\"\n",
    "\n",
    "Ratings = pd.DataFrame()\n",
    "Movies = pd.DataFrame()\n",
    "SimilarUsers = pd.DataFrame()\n",
    "UserCoefficients = pd.DataFrame()"
   ]
  },
  {
   "cell_type": "code",
   "execution_count": 22,
   "metadata": {
    "collapsed": true
   },
   "outputs": [],
   "source": [
    "def load_dataset(dataset):\n",
    "    dataset_name = dataset[0]\n",
    "    dataset_path = dataset[1]\n",
    "    try:\n",
    "        data = pd.read_csv(dataset_path)\n",
    "        print(\"{} is successfully read from memory.\").format(dataset_name)\n",
    "        return data\n",
    "    except:\n",
    "        print(\"CAUTION: {} cannot be read from memory.\").format(dataset_name)\n",
    "        return None"
   ]
  },
  {
   "cell_type": "code",
   "execution_count": 23,
   "metadata": {
    "collapsed": true
   },
   "outputs": [],
   "source": [
    "def unskewed_pearson_similarity(user1, user2):\n",
    "    dot_product = user1.transpose().dot(user2)\n",
    "    user1_vector_length = math.sqrt(user1.transpose().dot(user1))\n",
    "    user2_vector_length = math.sqrt(user2.transpose().dot(user2))\n",
    "    if user1_vector_length < 0.0000001 or user2_vector_length < 0.0000001 or (user1==user2).all():\n",
    "        return 0\n",
    "    else:\n",
    "        return dot_product / user1_vector_length / user2_vector_length"
   ]
  },
  {
   "cell_type": "code",
   "execution_count": 24,
   "metadata": {
    "collapsed": true
   },
   "outputs": [],
   "source": [
    "def process_ratings(Ratings):\n",
    "    MeanUserRating = Ratings.groupby(['userId'], as_index = False, sort = False).mean().rename(columns = {'rating': 'rating_mean'})[['userId','rating_mean']]\n",
    "    Ratings = pd.merge(Ratings, MeanUserRating, on = 'userId', how = 'left', sort = False)\n",
    "    Ratings['rating_adjusted'] = Ratings['rating'] - Ratings['rating_mean']\n",
    "    Ratings['mean_skewness'] = (Ratings['rating_adjusted'])/(5-Ratings['rating_mean'])*(Ratings['rating_adjusted']>0).astype(float) - (Ratings['rating_adjusted'])/(Ratings['rating_mean']-0.5)*(Ratings['rating_adjusted']<0).astype(float)\n",
    "    Ratings['rating_unskewed'] = Ratings['rating_adjusted'] * np.sqrt(1+(Ratings['mean_skewness']**2)*2) \n",
    "    PivotedUserMatrix = Ratings.pivot_table(index='movieId', columns='userId', values='rating_unskewed', fill_value=0)\n",
    "    return Ratings, PivotedUserMatrix"
   ]
  },
  {
   "cell_type": "code",
   "execution_count": 25,
   "metadata": {
    "collapsed": true
   },
   "outputs": [],
   "source": [
    "def user_similarity_matrix():\n",
    "    SimilarUsers = pd.DataFrame(0, index=np.arange(distinct_users.size), columns=np.arange(distinct_users.size), dtype='float')\n",
    "    UserCoefficients = pd.DataFrame(0, index=np.arange(distinct_users.size), columns=np.arange(distinct_users.size), dtype='float')\n",
    "    \n",
    "    for user in distinct_users[:40]:\n",
    "        userIndex = np.searchsorted(distinct_users, user)\n",
    "        \n",
    "        for user2 in distinct_users:\n",
    "            user2Index = np.searchsorted(distinct_users, user2)\n",
    "            \n",
    "            proximity = unskewed_pearson_similarity(PivotedUserMatrix.iloc[:,userIndex], PivotedUserMatrix.iloc[:,user2Index])\n",
    "            SimilarUsers[user2Index][userIndex] = proximity\n",
    "            \n",
    "        similarity_values = np.copy(SimilarUsers.values[userIndex])\n",
    "        SimilarUsers.values[userIndex] = np.argsort(SimilarUsers.values[userIndex])[::-1]\n",
    "        similarity_values.sort()\n",
    "        similarity_values = similarity_values[::-1]\n",
    "        UserCoefficients.values[userIndex] = np.where(similarity_values > 0, similarity_values, 0)\n",
    "        SimilarUsers.values[userIndex] = np.where(similarity_values > 0, SimilarUsers.values[userIndex], 0)\n",
    "        print(\"Calculated for {} users out of {}.\").format(userIndex+1, distinct_users.size)\n",
    "    \n",
    "    UserCoefficients.to_csv(user_coefficients_path, index=False)\n",
    "    SimilarUsers.to_csv(similar_users_path, index=False)\n",
    "    return SimilarUsers, UserCoefficients"
   ]
  },
  {
   "cell_type": "code",
   "execution_count": 26,
   "metadata": {
    "collapsed": true
   },
   "outputs": [],
   "source": [
    "def load_precalculated(data, name, path, recalculator, arg):\n",
    "    data = load_dataset((name, path))\n",
    "    if data is None:\n",
    "        print(\"{} data is being recalculated... It might take a while...\").format(name)\n",
    "        data = recalculator()[arg]\n",
    "    return data"
   ]
  },
  {
   "cell_type": "code",
   "execution_count": 28,
   "metadata": {
    "collapsed": false
   },
   "outputs": [
    {
     "name": "stdout",
     "output_type": "stream",
     "text": [
      "Ratings is successfully read from memory.\n",
      "Movies is successfully read from memory.\n",
      "CAUTION: SimilarUsers cannot be read from memory.\n",
      "SimilarUsers data is being recalculated... It might take a while...\n",
      "Calculated for 1 users out of 671.\n",
      "Calculated for 2 users out of 671.\n",
      "Calculated for 3 users out of 671.\n",
      "Calculated for 4 users out of 671.\n",
      "Calculated for 5 users out of 671.\n",
      "Calculated for 6 users out of 671.\n",
      "Calculated for 7 users out of 671.\n",
      "Calculated for 8 users out of 671.\n",
      "Calculated for 9 users out of 671.\n",
      "Calculated for 10 users out of 671.\n",
      "Calculated for 11 users out of 671.\n",
      "Calculated for 12 users out of 671.\n",
      "Calculated for 13 users out of 671.\n",
      "Calculated for 14 users out of 671.\n",
      "Calculated for 15 users out of 671.\n",
      "Calculated for 16 users out of 671.\n",
      "Calculated for 17 users out of 671.\n",
      "Calculated for 18 users out of 671.\n",
      "Calculated for 19 users out of 671.\n",
      "Calculated for 20 users out of 671.\n",
      "Calculated for 21 users out of 671.\n",
      "Calculated for 22 users out of 671.\n",
      "Calculated for 23 users out of 671.\n",
      "Calculated for 24 users out of 671.\n",
      "Calculated for 25 users out of 671.\n",
      "Calculated for 26 users out of 671.\n",
      "Calculated for 27 users out of 671.\n",
      "Calculated for 28 users out of 671.\n",
      "Calculated for 29 users out of 671.\n",
      "Calculated for 30 users out of 671.\n",
      "Calculated for 31 users out of 671.\n",
      "Calculated for 32 users out of 671.\n",
      "Calculated for 33 users out of 671.\n",
      "Calculated for 34 users out of 671.\n",
      "Calculated for 35 users out of 671.\n",
      "Calculated for 36 users out of 671.\n",
      "Calculated for 37 users out of 671.\n",
      "Calculated for 38 users out of 671.\n",
      "Calculated for 39 users out of 671.\n",
      "Calculated for 40 users out of 671.\n",
      "UserCoefficients is successfully read from memory.\n"
     ]
    }
   ],
   "source": [
    "Ratings = load_dataset((\"Ratings\", ratings_path))\n",
    "Ratings, PivotedUserMatrix = process_ratings(Ratings)\n",
    "distinct_users = np.unique(Ratings['userId'])\n",
    "distinct_movies = np.unique(Ratings['movieId'])\n",
    "Movies = load_dataset((\"Movies\", movies_path))\n",
    "SimilarUsers = load_precalculated(SimilarUsers, \"SimilarUsers\", similar_users_path, user_similarity_matrix, 0)\n",
    "UserCoefficients = load_precalculated(UserCoefficients, \"UserCoefficients\", user_coefficients_path, user_similarity_matrix, 1)    "
   ]
  },
  {
   "cell_type": "code",
   "execution_count": 51,
   "metadata": {
    "collapsed": true
   },
   "outputs": [],
   "source": [
    "def accumulate_user_recommendations(userId, recommenders):\n",
    "    recommendations = np.zeros(distinct_movies.size)\n",
    "    userIndex = np.searchsorted(distinct_users, userId)\n",
    "    recommendersProximity = UserCoefficients.values[userIndex]\n",
    "\n",
    "    for recommender, proximity in zip(recommenders, recommendersProximity):\n",
    "        recommenderIndex = np.searchsorted(distinct_users, recommender)\n",
    "        recommenderRatings = PivotedUserMatrix.iloc[:,recommenderIndex]\n",
    "        recommendation_vector = (recommenderRatings*proximity).values\n",
    "        recommendations += recommendation_vector\n",
    "\n",
    "    return recommendations"
   ]
  },
  {
   "cell_type": "code",
   "execution_count": 52,
   "metadata": {
    "collapsed": true
   },
   "outputs": [],
   "source": [
    "def user_collaborative_recommendations(userId):\n",
    "    userIndex = np.searchsorted(np.unique(Ratings['userId']), userId)\n",
    "    recommenders = np.extract(SimilarUsers.values[userIndex]>0, SimilarUsers.values[userIndex])\n",
    "    acc_recommendations = accumulate_user_recommendations(userId, recommenders)\n",
    "    user_recommendations = distinct_movies[np.argsort(acc_recommendations)][::-1]\n",
    "    acc_recommendations.sort()\n",
    "    sorted_recommendations = acc_recommendations[::-1]\n",
    "    user_recommendations = np.extract(sorted_recommendations>0, user_recommendations)\n",
    "    return user_recommendations"
   ]
  },
  {
   "cell_type": "code",
   "execution_count": 54,
   "metadata": {
    "collapsed": false
   },
   "outputs": [
    {
     "data": {
      "text/plain": [
       "array([ 296,  318,  260, 2571, 1196,  608,  858,   50,  593, 1198])"
      ]
     },
     "execution_count": 54,
     "metadata": {},
     "output_type": "execute_result"
    }
   ],
   "source": [
    "userId=5\n",
    "res = user_collaborative_recommendations(userId)[:10]\n",
    "res"
   ]
  },
  {
   "cell_type": "code",
   "execution_count": 394,
   "metadata": {
    "collapsed": false
   },
   "outputs": [
    {
     "data": {
      "text/html": [
       "<div>\n",
       "<style scoped>\n",
       "    .dataframe tbody tr th:only-of-type {\n",
       "        vertical-align: middle;\n",
       "    }\n",
       "\n",
       "    .dataframe tbody tr th {\n",
       "        vertical-align: top;\n",
       "    }\n",
       "\n",
       "    .dataframe thead th {\n",
       "        text-align: right;\n",
       "    }\n",
       "</style>\n",
       "<table border=\"1\" class=\"dataframe\">\n",
       "  <thead>\n",
       "    <tr style=\"text-align: right;\">\n",
       "      <th></th>\n",
       "      <th>movieId</th>\n",
       "      <th>title</th>\n",
       "      <th>genres</th>\n",
       "    </tr>\n",
       "  </thead>\n",
       "  <tbody>\n",
       "    <tr>\n",
       "      <th>232</th>\n",
       "      <td>260</td>\n",
       "      <td>Star Wars: Episode IV - A New Hope (1977)</td>\n",
       "      <td>Action|Adventure|Sci-Fi</td>\n",
       "    </tr>\n",
       "    <tr>\n",
       "      <th>266</th>\n",
       "      <td>296</td>\n",
       "      <td>Pulp Fiction (1994)</td>\n",
       "      <td>Comedy|Crime|Drama|Thriller</td>\n",
       "    </tr>\n",
       "    <tr>\n",
       "      <th>284</th>\n",
       "      <td>318</td>\n",
       "      <td>Shawshank Redemption, The (1994)</td>\n",
       "      <td>Crime|Drama</td>\n",
       "    </tr>\n",
       "    <tr>\n",
       "      <th>472</th>\n",
       "      <td>527</td>\n",
       "      <td>Schindler's List (1993)</td>\n",
       "      <td>Drama|War</td>\n",
       "    </tr>\n",
       "    <tr>\n",
       "      <th>695</th>\n",
       "      <td>858</td>\n",
       "      <td>Godfather, The (1972)</td>\n",
       "      <td>Crime|Drama</td>\n",
       "    </tr>\n",
       "    <tr>\n",
       "      <th>953</th>\n",
       "      <td>1196</td>\n",
       "      <td>Star Wars: Episode V - The Empire Strikes Back...</td>\n",
       "      <td>Action|Adventure|Sci-Fi</td>\n",
       "    </tr>\n",
       "    <tr>\n",
       "      <th>955</th>\n",
       "      <td>1198</td>\n",
       "      <td>Raiders of the Lost Ark (Indiana Jones and the...</td>\n",
       "      <td>Action|Adventure</td>\n",
       "    </tr>\n",
       "    <tr>\n",
       "      <th>3871</th>\n",
       "      <td>4993</td>\n",
       "      <td>Lord of the Rings: The Fellowship of the Ring,...</td>\n",
       "      <td>Adventure|Fantasy</td>\n",
       "    </tr>\n",
       "    <tr>\n",
       "      <th>4395</th>\n",
       "      <td>5952</td>\n",
       "      <td>Lord of the Rings: The Two Towers, The (2002)</td>\n",
       "      <td>Adventure|Fantasy</td>\n",
       "    </tr>\n",
       "    <tr>\n",
       "      <th>5026</th>\n",
       "      <td>7153</td>\n",
       "      <td>Lord of the Rings: The Return of the King, The...</td>\n",
       "      <td>Action|Adventure|Drama|Fantasy</td>\n",
       "    </tr>\n",
       "  </tbody>\n",
       "</table>\n",
       "</div>"
      ],
      "text/plain": [
       "      movieId                                              title  \\\n",
       "232       260          Star Wars: Episode IV - A New Hope (1977)   \n",
       "266       296                                Pulp Fiction (1994)   \n",
       "284       318                   Shawshank Redemption, The (1994)   \n",
       "472       527                            Schindler's List (1993)   \n",
       "695       858                              Godfather, The (1972)   \n",
       "953      1196  Star Wars: Episode V - The Empire Strikes Back...   \n",
       "955      1198  Raiders of the Lost Ark (Indiana Jones and the...   \n",
       "3871     4993  Lord of the Rings: The Fellowship of the Ring,...   \n",
       "4395     5952      Lord of the Rings: The Two Towers, The (2002)   \n",
       "5026     7153  Lord of the Rings: The Return of the King, The...   \n",
       "\n",
       "                              genres  \n",
       "232          Action|Adventure|Sci-Fi  \n",
       "266      Comedy|Crime|Drama|Thriller  \n",
       "284                      Crime|Drama  \n",
       "472                        Drama|War  \n",
       "695                      Crime|Drama  \n",
       "953          Action|Adventure|Sci-Fi  \n",
       "955                 Action|Adventure  \n",
       "3871               Adventure|Fantasy  \n",
       "4395               Adventure|Fantasy  \n",
       "5026  Action|Adventure|Drama|Fantasy  "
      ]
     },
     "execution_count": 394,
     "metadata": {},
     "output_type": "execute_result"
    }
   ],
   "source": [
    "Movies[Movies['movieId'].isin(res)]"
   ]
  },
  {
   "cell_type": "code",
   "execution_count": 49,
   "metadata": {
    "collapsed": false
   },
   "outputs": [
    {
     "data": {
      "text/html": [
       "<div>\n",
       "<style>\n",
       "    .dataframe thead tr:only-child th {\n",
       "        text-align: right;\n",
       "    }\n",
       "\n",
       "    .dataframe thead th {\n",
       "        text-align: left;\n",
       "    }\n",
       "\n",
       "    .dataframe tbody tr th {\n",
       "        vertical-align: top;\n",
       "    }\n",
       "</style>\n",
       "<table border=\"1\" class=\"dataframe\">\n",
       "  <thead>\n",
       "    <tr style=\"text-align: right;\">\n",
       "      <th></th>\n",
       "      <th>movieId</th>\n",
       "      <th>title</th>\n",
       "      <th>genres</th>\n",
       "    </tr>\n",
       "  </thead>\n",
       "  <tbody>\n",
       "    <tr>\n",
       "      <th>48</th>\n",
       "      <td>50</td>\n",
       "      <td>Usual Suspects, The (1995)</td>\n",
       "      <td>Crime|Mystery|Thriller</td>\n",
       "    </tr>\n",
       "    <tr>\n",
       "      <th>232</th>\n",
       "      <td>260</td>\n",
       "      <td>Star Wars: Episode IV - A New Hope (1977)</td>\n",
       "      <td>Action|Adventure|Sci-Fi</td>\n",
       "    </tr>\n",
       "    <tr>\n",
       "      <th>266</th>\n",
       "      <td>296</td>\n",
       "      <td>Pulp Fiction (1994)</td>\n",
       "      <td>Comedy|Crime|Drama|Thriller</td>\n",
       "    </tr>\n",
       "    <tr>\n",
       "      <th>284</th>\n",
       "      <td>318</td>\n",
       "      <td>Shawshank Redemption, The (1994)</td>\n",
       "      <td>Crime|Drama</td>\n",
       "    </tr>\n",
       "    <tr>\n",
       "      <th>525</th>\n",
       "      <td>593</td>\n",
       "      <td>Silence of the Lambs, The (1991)</td>\n",
       "      <td>Crime|Horror|Thriller</td>\n",
       "    </tr>\n",
       "    <tr>\n",
       "      <th>535</th>\n",
       "      <td>608</td>\n",
       "      <td>Fargo (1996)</td>\n",
       "      <td>Comedy|Crime|Drama|Thriller</td>\n",
       "    </tr>\n",
       "    <tr>\n",
       "      <th>695</th>\n",
       "      <td>858</td>\n",
       "      <td>Godfather, The (1972)</td>\n",
       "      <td>Crime|Drama</td>\n",
       "    </tr>\n",
       "    <tr>\n",
       "      <th>953</th>\n",
       "      <td>1196</td>\n",
       "      <td>Star Wars: Episode V - The Empire Strikes Back...</td>\n",
       "      <td>Action|Adventure|Sci-Fi</td>\n",
       "    </tr>\n",
       "    <tr>\n",
       "      <th>955</th>\n",
       "      <td>1198</td>\n",
       "      <td>Raiders of the Lost Ark (Indiana Jones and the...</td>\n",
       "      <td>Action|Adventure</td>\n",
       "    </tr>\n",
       "    <tr>\n",
       "      <th>2062</th>\n",
       "      <td>2571</td>\n",
       "      <td>Matrix, The (1999)</td>\n",
       "      <td>Action|Sci-Fi|Thriller</td>\n",
       "    </tr>\n",
       "  </tbody>\n",
       "</table>\n",
       "</div>"
      ],
      "text/plain": [
       "      movieId                                              title  \\\n",
       "48         50                         Usual Suspects, The (1995)   \n",
       "232       260          Star Wars: Episode IV - A New Hope (1977)   \n",
       "266       296                                Pulp Fiction (1994)   \n",
       "284       318                   Shawshank Redemption, The (1994)   \n",
       "525       593                   Silence of the Lambs, The (1991)   \n",
       "535       608                                       Fargo (1996)   \n",
       "695       858                              Godfather, The (1972)   \n",
       "953      1196  Star Wars: Episode V - The Empire Strikes Back...   \n",
       "955      1198  Raiders of the Lost Ark (Indiana Jones and the...   \n",
       "2062     2571                                 Matrix, The (1999)   \n",
       "\n",
       "                           genres  \n",
       "48         Crime|Mystery|Thriller  \n",
       "232       Action|Adventure|Sci-Fi  \n",
       "266   Comedy|Crime|Drama|Thriller  \n",
       "284                   Crime|Drama  \n",
       "525         Crime|Horror|Thriller  \n",
       "535   Comedy|Crime|Drama|Thriller  \n",
       "695                   Crime|Drama  \n",
       "953       Action|Adventure|Sci-Fi  \n",
       "955              Action|Adventure  \n",
       "2062       Action|Sci-Fi|Thriller  "
      ]
     },
     "execution_count": 49,
     "metadata": {},
     "output_type": "execute_result"
    }
   ],
   "source": [
    "Movies[Movies['movieId'].isin(res)]"
   ]
  }
 ],
 "metadata": {
  "anaconda-cloud": {},
  "kernelspec": {
   "display_name": "Python [conda env:my_env]",
   "language": "python",
   "name": "conda-env-my_env-py"
  },
  "language_info": {
   "codemirror_mode": {
    "name": "ipython",
    "version": 2
   },
   "file_extension": ".py",
   "mimetype": "text/x-python",
   "name": "python",
   "nbconvert_exporter": "python",
   "pygments_lexer": "ipython2",
   "version": "2.7.13"
  }
 },
 "nbformat": 4,
 "nbformat_minor": 1
}
