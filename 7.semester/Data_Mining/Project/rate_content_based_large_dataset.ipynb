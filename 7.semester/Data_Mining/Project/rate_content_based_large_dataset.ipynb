{
 "cells": [
  {
   "cell_type": "code",
   "execution_count": 1,
   "metadata": {
    "collapsed": true
   },
   "outputs": [],
   "source": [
    "import pandas as pd\n",
    "import numpy as np\n",
    "import matplotlib.pyplot as plt\n",
    "import math\n",
    "import time\n",
    "import os"
   ]
  },
  {
   "cell_type": "code",
   "execution_count": 2,
   "metadata": {
    "collapsed": true
   },
   "outputs": [],
   "source": [
    "LARGE_DATASET = True"
   ]
  },
  {
   "cell_type": "code",
   "execution_count": 3,
   "metadata": {
    "collapsed": true
   },
   "outputs": [],
   "source": [
    "if LARGE_DATASET:\n",
    "    movie_path = \"ml-latest/movies.csv\"\n",
    "    tags_path = \"ml-latest/tags.csv\"\n",
    "    ratings_path_learn = \"ml-latest/split/ratings_learning.csv\"\n",
    "    ratings_path_test = \"ml-latest/split/ratings_testing.csv\"\n",
    "    movie_profiles_path = \"/media/karol/E8B625B3B6258364/calculated/movie_profiles\"\n",
    "    user_profiles_path = \"/media/karol/E8B625B3B6258364/calculated/user_profiles/\"\n",
    "    movie_matrix_path = \"/media/karol/E8B625B3B6258364/calculated/movie_matrix\"\n",
    "else:\n",
    "    movie_path = \"ml-latest-small/movies.csv\"\n",
    "    tags_path = \"ml-latest-small/tags.csv\"\n",
    "    ratings_path = \"ml-latest-small/split/ratings_learning.csv\"\n",
    "    movie_profiles_path = \"/media/karol/E8B625B3B6258364/calculated-small/movie_profiles\"\n",
    "    user_profiles_path = \"/media/karol/E8B625B3B6258364/calculated-small/user_profiles/\""
   ]
  },
  {
   "cell_type": "code",
   "execution_count": 15,
   "metadata": {
    "collapsed": true
   },
   "outputs": [],
   "source": [
    "def plot_percents(percents):\n",
    "    plt.figure(figsize=(20,10))\n",
    "    objects = np.arange(100)\n",
    "    plt.bar(objects, percents, align='center', alpha=0.5)\n",
    "    plt.ylabel('n-users')\n",
    "    plt.title('Recommendation accuracy - less is better')\n",
    "\n",
    "    plt.show()"
   ]
  },
  {
   "cell_type": "markdown",
   "metadata": {},
   "source": [
    "# Ocena wygenerowanych rekomendacji\n",
    "\n",
    "Ciężko wymyślić jednoznaczne kryterium na określenie trafności rekomendacji. Po kilku testach zdecydowaliśmy się na wybraniu pozytywnie ocenionych filmów z danych testowych i zobaczeniu jak wysoko na liście rekomendacji te filmy się pojawiają. Im wyżej tym lepiej"
   ]
  },
  {
   "cell_type": "code",
   "execution_count": 5,
   "metadata": {
    "collapsed": true
   },
   "outputs": [],
   "source": [
    "ratings_data_learn = pd.read_csv(ratings_path_learn)\n",
    "ratings_data_test = pd.read_csv(ratings_path_test)"
   ]
  },
  {
   "cell_type": "code",
   "execution_count": 6,
   "metadata": {
    "collapsed": true
   },
   "outputs": [],
   "source": [
    "usrs = ratings_data_test['userId'].drop_duplicates()"
   ]
  },
  {
   "cell_type": "code",
   "execution_count": 7,
   "metadata": {
    "collapsed": true
   },
   "outputs": [],
   "source": [
    "grps = ratings_data_learn.groupby(['userId','rating']).count().loc[usrs]"
   ]
  },
  {
   "cell_type": "code",
   "execution_count": 8,
   "metadata": {
    "collapsed": true
   },
   "outputs": [],
   "source": [
    "def read_user_recommendations(userId):\n",
    "    path = \"calculated/content_based_recommendations/\" + str(userId)\n",
    "    return pd.read_csv(path, header=None)\n",
    "\n",
    "def get_recommendations_to_rate(userId):\n",
    "    return ratings_data_test[ratings_data_test['userId']==userId]['movieId']\n",
    "\n",
    "# get_recommendation_percentile: funkcja wczytuje listę ocen z danych testowych po czym\n",
    "# wyszukuje jak wysoko w liście rekomendacji pojawiają się ocenione filmy\n",
    "def get_recommendation_percentile(userId):\n",
    "    rec = read_user_recommendations(userId)\n",
    "    to_rate = get_recommendations_to_rate(userId)\n",
    "    percentiles = []\n",
    "    for movieId in to_rate:\n",
    "        place = rec[rec[0] == movieId].index[0]\n",
    "        percentiles.append(place * 100 / rec.shape[0])\n",
    "    return percentiles"
   ]
  },
  {
   "cell_type": "code",
   "execution_count": 23,
   "metadata": {},
   "outputs": [],
   "source": [
    "percents = np.zeros(100)\n",
    "for userId in os.listdir(\"calculated/content_based_recommendations/\"):\n",
    "    percents[int(np.mean(get_recommendation_percentile(int(userId))))] += 1"
   ]
  },
  {
   "cell_type": "code",
   "execution_count": 25,
   "metadata": {
    "collapsed": true
   },
   "outputs": [],
   "source": [
    "percents = np.zeros(100)\n",
    "for userId in os.listdir(\"calculated/content_based_recommendations/\"):\n",
    "    for percent in get_recommendation_percentile(int(userId)):\n",
    "        percents[int(percent)] += 1"
   ]
  },
  {
   "cell_type": "markdown",
   "metadata": {},
   "source": [
    "Jak widać na wykresie zdecydowana większość pozytywnych ocen z danych testowych znalazła się w pierwszych 10 procentach rekomendowanych filmów"
   ]
  },
  {
   "cell_type": "code",
   "execution_count": 26,
   "metadata": {
    "scrolled": false
   },
   "outputs": [
    {
     "data": {
      "image/png": "[encoded data removed]",
      "text/plain": [
       "<matplotlib.figure.Figure at 0x7f91dcafef98>"
      ]
     },
     "metadata": {},
     "output_type": "display_data"
    }
   ],
   "source": [
    "plot_percents(percents)"
   ]
  }
 ],
 "metadata": {
  "kernelspec": {
   "display_name": "Python 3",
   "language": "python",
   "name": "python3"
  },
  "language_info": {
   "codemirror_mode": {
    "name": "ipython",
    "version": 3
   },
   "file_extension": ".py",
   "mimetype": "text/x-python",
   "name": "python",
   "nbconvert_exporter": "python",
   "pygments_lexer": "ipython3",
   "version": "3.6.2"
  }
 },
 "nbformat": 4,
 "nbformat_minor": 2
}
