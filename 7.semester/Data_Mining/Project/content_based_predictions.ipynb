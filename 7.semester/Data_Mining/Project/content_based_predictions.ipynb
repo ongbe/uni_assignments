{
 "cells": [
  {
   "cell_type": "code",
   "execution_count": 20,
   "metadata": {
    "collapsed": true
   },
   "outputs": [],
   "source": [
    "import pandas as pd\n",
    "import numpy as np\n",
    "import math\n",
    "import time\n",
    "import os"
   ]
  },
  {
   "cell_type": "code",
   "execution_count": 21,
   "metadata": {
    "collapsed": true
   },
   "outputs": [],
   "source": [
    "LARGE_DATASET = False"
   ]
  },
  {
   "cell_type": "code",
   "execution_count": 22,
   "metadata": {
    "collapsed": true
   },
   "outputs": [],
   "source": [
    "if LARGE_DATASET:\n",
    "    movie_path = \"ml-latest/movies.csv\"\n",
    "    tags_path = \"ml-latest/tags.csv\"\n",
    "    ratings_path = \"ml-latest/ratings.csv\"\n",
    "    movie_profiles_path = \"/media/karol/E8B625B3B6258364/calculated/movie_profiles\"\n",
    "    user_profiles_path = \"/media/karol/E8B625B3B6258364/calculated/user_profiles/\"\n",
    "    movie_matrix_path = \"/media/karol/E8B625B3B6258364/calculated/movie_matrix\"\n",
    "else:\n",
    "    movie_path = \"ml-latest-small/movies.csv\"\n",
    "    tags_path = \"ml-latest-small/tags.csv\"\n",
    "    ratings_path = \"ml-latest-small/split/ratings_testing.csv\"\n",
    "    movie_profiles_path = \"/media/karol/E8B625B3B6258364/calculated-small/movie_profiles\"\n",
    "    user_profiles_path = \"/media/karol/E8B625B3B6258364/calculated-small/user_profiles/\""
   ]
  },
  {
   "cell_type": "code",
   "execution_count": 23,
   "metadata": {
    "collapsed": true
   },
   "outputs": [],
   "source": [
    "def read_user_profile(userId):\n",
    "    directory = user_profiles_path + str(userId // 1000) + \"/\" + str(userId)\n",
    "    user_profile = pd.read_csv(directory,  header=None, usecols=[1,2,3])\n",
    "    return user_profile.rename(columns={1:\"tag\",2:\"u_weight\",3:\"userId\"})\n",
    "\n",
    "def get_movie_profile(movieId):\n",
    "    return movie_profiles[movie_profiles['movieId'] == movieId]"
   ]
  },
  {
   "cell_type": "markdown",
   "metadata": {},
   "source": [
    "# Predict user's rating on test data"
   ]
  },
  {
   "cell_type": "markdown",
   "metadata": {},
   "source": [
    "Finally a method fast enough to process large dataset"
   ]
  },
  {
   "cell_type": "code",
   "execution_count": 24,
   "metadata": {
    "collapsed": true
   },
   "outputs": [],
   "source": [
    "def get_movie_profile_matrix(movie_indices):\n",
    "    if len(movie_indices) == 1:\n",
    "        mid = movie_indices.iloc[0]\n",
    "        return get_movie_profile(mid).drop(['movieId'],1).rename(columns={\"m_weight\": mid})\n",
    "    \n",
    "    matrix_left = get_movie_profile_matrix(movie_indices[:len(movie_indices)//2])\n",
    "    matrix_right = get_movie_profile_matrix(movie_indices[len(movie_indices)//2:])\n",
    "    matrix = pd.merge(matrix_left,matrix_right , on='tag', how='outer', sort=False)\n",
    "    return matrix\n",
    "\n",
    "def get_similarity(userId, movies_df):\n",
    "    i = read_user_profile(userId)\n",
    "    i['u_weight'] = i['u_weight'] / np.sqrt(np.square(i['u_weight']).sum())\n",
    "    similarity = pd.merge(i, movies_df, on='tag', how='outer', sort=False)\n",
    "    return similarity.iloc[:,3:].mul(i['u_weight'],0).sum(0)"
   ]
  },
  {
   "cell_type": "code",
   "execution_count": 25,
   "metadata": {
    "collapsed": true
   },
   "outputs": [],
   "source": [
    "mf = open(movie_profiles_path, 'r')\n",
    "movie_profiles = pd.read_csv(mf).rename(columns={'weight':'m_weight'})\n",
    "\n",
    "movies = movie_profiles['movieId'].drop_duplicates()"
   ]
  },
  {
   "cell_type": "code",
   "execution_count": 26,
   "metadata": {
    "collapsed": true
   },
   "outputs": [],
   "source": [
    "movie_matrix = get_movie_profile_matrix(movies)"
   ]
  },
  {
   "cell_type": "code",
   "execution_count": 27,
   "metadata": {
    "collapsed": true
   },
   "outputs": [],
   "source": [
    "ratings_data = pd.read_csv(ratings_path)"
   ]
  },
  {
   "cell_type": "code",
   "execution_count": 29,
   "metadata": {},
   "outputs": [
    {
     "data": {
      "text/plain": [
       "0         4\n",
       "4         8\n",
       "8        15\n",
       "12       17\n",
       "16       19\n",
       "20       21\n",
       "24       22\n",
       "28       23\n",
       "32       26\n",
       "36       30\n",
       "40       33\n",
       "44       34\n",
       "48       36\n",
       "52       38\n",
       "56       41\n",
       "60       43\n",
       "64       48\n",
       "68       56\n",
       "72       57\n",
       "76       61\n",
       "80       67\n",
       "84       68\n",
       "88       72\n",
       "92       73\n",
       "96       75\n",
       "100      77\n",
       "104      78\n",
       "108      81\n",
       "112      83\n",
       "116      84\n",
       "       ... \n",
       "912     592\n",
       "916     595\n",
       "920     596\n",
       "924     597\n",
       "928     598\n",
       "932     599\n",
       "936     602\n",
       "940     603\n",
       "944     605\n",
       "948     607\n",
       "952     608\n",
       "956     609\n",
       "960     615\n",
       "964     620\n",
       "968     623\n",
       "972     624\n",
       "976     626\n",
       "980     627\n",
       "984     641\n",
       "988     646\n",
       "992     647\n",
       "996     648\n",
       "1000    652\n",
       "1004    654\n",
       "1008    655\n",
       "1012    656\n",
       "1016    659\n",
       "1020    664\n",
       "1024    665\n",
       "1028    671\n",
       "Name: userId, Length: 258, dtype: int64"
      ]
     },
     "execution_count": 29,
     "metadata": {},
     "output_type": "execute_result"
    }
   ],
   "source": [
    "ratings_data['userId'].drop_duplicates()"
   ]
  },
  {
   "cell_type": "code",
   "execution_count": 31,
   "metadata": {},
   "outputs": [
    {
     "name": "stdout",
     "output_type": "stream",
     "text": [
      "2.8426177501678467\n"
     ]
    }
   ],
   "source": [
    "start = time.time()\n",
    "for userId in ratings_data['userId'].drop_duplicates():\n",
    "        f = open(\"calculated/content_based_recommendations/\" + str(userId), \"w\")\n",
    "        recomendations = pd.DataFrame()\n",
    "        recomendations['movie'] = get_similarity(userId,movie_matrix).sort_values(ascending=False).index\n",
    "        recomendations.to_csv(f, header=None ,index=False)\n",
    "print(time.time() - start)"
   ]
  },
  {
   "cell_type": "markdown",
   "metadata": {},
   "source": [
    "# Small Dataset processed in less than 4 seconds\n",
    "\n",
    "\n",
    "\n",
    "in big dataset every user is calculated in less than second"
   ]
  },
  {
   "cell_type": "markdown",
   "metadata": {
    "collapsed": true
   },
   "source": [
    "TODO:\n",
    "\n",
    "    ogarnąć dokumentacje, spostrzeżenia itp"
   ]
  }
 ],
 "metadata": {
  "kernelspec": {
   "display_name": "Python 3",
   "language": "python",
   "name": "python3"
  },
  "language_info": {
   "codemirror_mode": {
    "name": "ipython",
    "version": 3
   },
   "file_extension": ".py",
   "mimetype": "text/x-python",
   "name": "python",
   "nbconvert_exporter": "python",
   "pygments_lexer": "ipython3",
   "version": "3.6.2"
  }
 },
 "nbformat": 4,
 "nbformat_minor": 2
}
