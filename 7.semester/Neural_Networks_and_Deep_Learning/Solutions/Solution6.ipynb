{
 "cells": [
  {
   "cell_type": "markdown",
   "metadata": {},
   "source": [
    "# Assignment 6\n",
    "\n",
    "**Submission deadline:**\n",
    "\n",
    "* **Problem 1 is due last lab session before or on Wednesday, 31.01.18**\n",
    "\n",
    "* **Bonus problems are due Wednesday, 7.02.18**\n",
    "\n",
    "Lecture on SVM (necessary for solving bonus problems 4-7) will take place on Saturday, 27.01.2018 from 10am - 2pm in room 119.\n",
    "\n",
    "**Points: 4 + 11 bonus points**\n",
    "\n",
    "\n",
    "## Downloading this notebook\n",
    "\n",
    "This assignment is an Jupyter notebook. Download it by cloning https://github.com/janchorowski/nn_assignments. Follow the instructions in its README for instructions.\n",
    "\n",
    "Please do not hesitate to use GitHub’s pull requests to send us corrections!"
   ]
  },
  {
   "cell_type": "code",
   "execution_count": 1,
   "metadata": {
    "collapsed": false
   },
   "outputs": [
    {
     "name": "stdout",
     "output_type": "stream",
     "text": [
      "Populating the interactive namespace from numpy and matplotlib\n"
     ]
    }
   ],
   "source": [
    "%pylab inline"
   ]
  },
  {
   "cell_type": "markdown",
   "metadata": {
    "collapsed": true
   },
   "source": [
    "# Problem 2: K-Means [2p bonus]\n",
    "\n",
    "Fill in the blanks in the K-means code. Then compare the following 3 strategies for initial point selection\n",
    "\n",
    "1. Uniform sampling over the range of the data\n",
    "2. Uniform sampling of data points\n",
    "3. Kmeans++ (http://ilpubs.stanford.edu:8090/778/1/2006-13.pdf, pg. 3):\n",
    "    1. the first point is sampled uniformly from the dataset\n",
    "    2. subsequent points are sampled with probability $\\frac{D(x)^2}{\\sum_{x'} D(x')^2}$, where $D(x)$ denotes the distance from $x$ to a nearest point that was already chosen. \n",
    "    \n",
    "Conduct experiments for various number of clusters and different initialization strategies. Make screenshots of some representative solutions (and failure modes).\n",
    "\n",
    "Make one cluster of the generated data much 3-5 times larger. How does it affect the K-means solution?"
   ]
  },
  {
   "cell_type": "code",
   "execution_count": 2,
   "metadata": {
    "collapsed": false
   },
   "outputs": [
    {
     "data": {
      "text/plain": [
       "(2, 160)"
      ]
     },
     "execution_count": 2,
     "metadata": {},
     "output_type": "execute_result"
    },
    {
     "data": {
      "image/png": "[encoded data removed]",
      "text/plain": [
       "<matplotlib.figure.Figure at 0x7f6daa467650>"
      ]
     },
     "metadata": {},
     "output_type": "display_data"
    }
   ],
   "source": [
    "def gen_cluster(x0, y0, n=20):\n",
    "    return np.random.rand(2,n) + np.array([[x0],[y0]]) - 0.5\n",
    "\n",
    "def gen_data():\n",
    "    clusters = []\n",
    "    for x in [0,2,4,6]:\n",
    "        for y in [0,2]:\n",
    "            n = 20\n",
    "            clusters.append(gen_cluster(x,y,n))\n",
    "    return np.hstack(clusters)\n",
    "\n",
    "data = gen_data()\n",
    "scatter(data[0,:], data[1,:])\n",
    "data.shape"
   ]
  },
  {
   "cell_type": "code",
   "execution_count": null,
   "metadata": {
    "collapsed": true
   },
   "outputs": [],
   "source": []
  },
  {
   "cell_type": "code",
   "execution_count": 3,
   "metadata": {
    "collapsed": true
   },
   "outputs": [],
   "source": [
    "def dist(X,Y):\n",
    "    dd = X[:,None,:] - Y[:,:,None]\n",
    "    dd = (dd**2).sum(0)\n",
    "    return dd"
   ]
  },
  {
   "cell_type": "code",
   "execution_count": 4,
   "metadata": {
    "collapsed": true
   },
   "outputs": [],
   "source": [
    "def k_means(data, k=2, init_pts='rand_samples'):\n",
    "    dim, ns = data.shape\n",
    "    \n",
    "    if init_pts == 'rand_samples':\n",
    "        C = data[:,np.random.choice(ns, k, replace=False)]\n",
    "    elif init_pts == 'rand_range':\n",
    "        mins = data.min(axis=1)\n",
    "        maxs = data.max(axis=1)\n",
    "        intervals = maxs-mins\n",
    "        C = np.transpose(np.random.rand(k,dim)*intervals+mins)\n",
    "    elif init_pts == 'km++':\n",
    "        C = np.zeros((dim, k))\n",
    "        pbb = np.ones(ns)/ns\n",
    "        for center in range(k):\n",
    "            next_center = np.random.choice(ns, 1, replace=False, p=pbb)\n",
    "            C[:,center] = data[:,next_center].flatten()\n",
    "            min_sq_distances = dist(data, C[:,:center+1]).min(axis=0)**2\n",
    "            dist_sum = min_sq_distances.sum()\n",
    "            pbb = min_sq_distances/dist_sum\n",
    "        #C = np.array([[0.,0.,2.,2.,4.,4.,6.,6.],[0.,2.,0.,2.,0.,2.,0.,2.]])\n",
    "    else:\n",
    "        raise Exception('invalid init_pts!')\n",
    "    \n",
    "    Cinit = C.copy()\n",
    "    last_assignments = np.zeros((ns,))\n",
    "    while True:\n",
    "        D = dist(data, C)\n",
    "        assignment = np.argmin(D, axis=0)\n",
    "\n",
    "        for ci in xrange(k):\n",
    "            sel = assignment==ci\n",
    "            if sum(sel) == 0:\n",
    "                print 'empty cluster: ', ci, '!'\n",
    "                C[:,ci] = np.inf\n",
    "            else:\n",
    "                C[:,ci] = data[:,sel].mean(axis=1)\n",
    "        if np.all(assignment == last_assignments):\n",
    "            break\n",
    "        last_assignments = assignment\n",
    "\n",
    "    return assignment, C, Cinit"
   ]
  },
  {
   "cell_type": "code",
   "execution_count": 59,
   "metadata": {
    "collapsed": false,
    "scrolled": true
   },
   "outputs": [
    {
     "name": "stdout",
     "output_type": "stream",
     "text": [
      "[[ 6.04374845e+00 -6.67319582e-04  4.01991746e+00  2.21741131e-02\n",
      "   5.98113758e+00  4.00926712e+00  1.99490764e+00  2.01933197e+00]\n",
      " [ 2.03789827e+00 -2.65293491e-02  2.02791394e-02  2.00508663e+00\n",
      "  -5.29012458e-02  1.97686466e+00  3.61859281e-02  1.92418125e+00]]\n"
     ]
    },
    {
     "data": {
      "text/plain": [
       "<matplotlib.collections.PathCollection at 0x7f6d9e2510d0>"
      ]
     },
     "execution_count": 59,
     "metadata": {},
     "output_type": "execute_result"
    },
    {
     "data": {
      "image/png": "[encoded data removed]",
      "text/plain": [
       "<matplotlib.figure.Figure at 0x7f6d9e25e790>"
      ]
     },
     "metadata": {},
     "output_type": "display_data"
    }
   ],
   "source": [
    "colormap = [\n",
    "    (0.5529411764705883, 0.8274509803921568, 0.7803921568627451),\n",
    "    (1.0, 1.0, 0.7019607843137254),\n",
    "    (0.7450980392156863, 0.7294117647058823, 0.8549019607843137),\n",
    "    (0.984313725490196, 0.5019607843137255, 0.4470588235294118),\n",
    "    (0.5019607843137255, 0.6941176470588235, 0.8274509803921568),\n",
    "    (0.9921568627450981, 0.7058823529411765, 0.3843137254901961),\n",
    "    (0.7019607843137254, 0.8705882352941177, 0.4117647058823529),\n",
    "    (0.9882352941176471, 0.803921568627451, 0.8980392156862745)]\n",
    "\n",
    "\n",
    "a, c, cinit = k_means(data, 8, init_pts='km++')\n",
    "print(c)\n",
    "for ci in set(a):\n",
    "    scatter(data[0,a==ci],data[1,a==ci])#, color=colormap[ci], s=25)\n",
    "\n",
    "scatter(cinit[0,:], cinit[1,:], color='k',marker='*', s=40)\n",
    "scatter(c[0,:], c[1,:], color='k',marker='v', s=25)"
   ]
  },
  {
   "cell_type": "markdown",
   "metadata": {},
   "source": [
    "# Problem 3: Bisecting K-Means [2p bonus]\n",
    "\n",
    "Implement the \"Bisecting k-means\" algorithm, such as the one from Apache Spark: https://spark.apache.org/docs/1.6.0/api/java/org/apache/spark/mllib/clustering/BisectingKMeans.html."
   ]
  },
  {
   "cell_type": "code",
   "execution_count": null,
   "metadata": {
    "collapsed": true
   },
   "outputs": [],
   "source": [
    "import collections"
   ]
  },
  {
   "cell_type": "code",
   "execution_count": 100,
   "metadata": {
    "collapsed": true
   },
   "outputs": [],
   "source": [
    "def bisect_kmeans(data, k, init_pts='km++', set_num=1):    \n",
    "    if k==1:\n",
    "        A, C, Cinit = k_means(data, 1, init_pts)\n",
    "        A = A+set_num\n",
    "    \n",
    "    elif k>=2:\n",
    "        new_data, Centr, Cinit = k_means(data, 2, init_pts)\n",
    "\n",
    "        first_subset, second_subset =  collections.Counter(new_data).items()\n",
    "        if first_subset[1] > second_subset[1]:\n",
    "            bigger_data = data[:,new_data==first_subset[0]]\n",
    "            smaller_data = data[:,new_data==second_subset[0]]\n",
    "        else:\n",
    "            smaller_data = data[:,new_data==first_subset[0]]\n",
    "            bigger_data = data[:,new_data==second_subset[0]]\n",
    "            \n",
    "        biggerA, biggerC, biggerCinit = bisect_kmeans(bigger_data, math.ceil(k/2.0), init_pts, set_num*2)\n",
    "        smallerA, smallerC, smallerCinit = bisect_kmeans(smaller_data, math.floor(k/2.0), init_pts, set_num*2+1)\n",
    "            \n",
    "        A = np.append(biggerA, smallerA, axis=0)\n",
    "        C = np.append(biggerC, smallerC, axis=1)\n",
    "        Cinit = np.append(biggerCinit, smallerCinit, axis=1)\n",
    "\n",
    "    return A, C, Cinit "
   ]
  },
  {
   "cell_type": "code",
   "execution_count": 101,
   "metadata": {
    "collapsed": false
   },
   "outputs": [
    {
     "data": {
      "text/plain": [
       "(2, 160)"
      ]
     },
     "execution_count": 101,
     "metadata": {},
     "output_type": "execute_result"
    },
    {
     "data": {
      "image/png": "[encoded data removed]",
      "text/plain": [
       "<matplotlib.figure.Figure at 0x7f6d9e7e5d90>"
      ]
     },
     "metadata": {},
     "output_type": "display_data"
    }
   ],
   "source": [
    "data = gen_data()\n",
    "scatter(data[0,:], data[1,:])\n",
    "data.shape"
   ]
  },
  {
   "cell_type": "code",
   "execution_count": 158,
   "metadata": {
    "collapsed": false
   },
   "outputs": [
    {
     "data": {
      "text/plain": [
       "<matplotlib.collections.PathCollection at 0x7f6d9c487390>"
      ]
     },
     "execution_count": 158,
     "metadata": {},
     "output_type": "execute_result"
    },
    {
     "data": {
      "image/png": "[encoded data removed]",
      "text/plain": [
       "<matplotlib.figure.Figure at 0x7f6d9c5b6310>"
      ]
     },
     "metadata": {},
     "output_type": "display_data"
    }
   ],
   "source": [
    "a, c, cinit = bisect_kmeans(data, 8, init_pts='km++')\n",
    "\n",
    "for ci in set(a):\n",
    "    scatter(data[0,a==ci],data[1,a==ci])\n",
    "\n",
    "scatter(cinit[0,:], cinit[1,:], color='k',marker='*', s=40)\n",
    "scatter(c[0,:], c[1,:], color='k',marker='v', s=25)"
   ]
  },
  {
   "cell_type": "code",
   "execution_count": null,
   "metadata": {
    "collapsed": true
   },
   "outputs": [],
   "source": []
  }
 ],
 "metadata": {
  "anaconda-cloud": {},
  "kernelspec": {
   "display_name": "Python [conda env:my_env]",
   "language": "python",
   "name": "conda-env-my_env-py"
  },
  "language_info": {
   "codemirror_mode": {
    "name": "ipython",
    "version": 2
   },
   "file_extension": ".py",
   "mimetype": "text/x-python",
   "name": "python",
   "nbconvert_exporter": "python",
   "pygments_lexer": "ipython2",
   "version": "2.7.13"
  }
 },
 "nbformat": 4,
 "nbformat_minor": 1
}
