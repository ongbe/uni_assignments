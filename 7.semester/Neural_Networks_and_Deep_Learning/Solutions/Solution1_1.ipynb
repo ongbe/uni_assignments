{
 "cells": [
  {
   "cell_type": "markdown",
   "metadata": {},
   "source": [
    "# Assignment 1\n",
    "\n",
    "**Submission deadline:**\n",
    "* **Problems 1-4: last lab session before or on Wednesday, 18.10.17**\n",
    "* **Problems 5-6: last lab session before or on Wednesday, 25.10.17**\n",
    "\n",
    "**Points: 10 + 4 bonus points**\n",
    "\n",
    "Please note: some of the assignments are tedious or boring if you are already a NumPy ninja. The bonus problems were designed to give you a more satisfying alternative.\n",
    "\n",
    "## Downloading this notebook\n",
    "\n",
    "This assignment is an Jupyter notebook. Download it by cloning https://github.com/janchorowski/nn_assignments. Follow the instructions in its README for instructions. Whenever possible, add your solutions to the notebook. \n",
    "\n",
    "Please email us about any problems with it - we will try to correct them quickly. Also, please do not hesitate to use **GitHub’s pull requests** to send us corrections!"
   ]
  },
  {
   "cell_type": "code",
   "execution_count": 1,
   "metadata": {
    "collapsed": true
   },
   "outputs": [],
   "source": [
    "# Standard IPython notebook imports\n",
    "%matplotlib inline\n",
    "\n",
    "from __future__ import absolute_import\n",
    "from __future__ import division\n",
    "from __future__ import print_function\n",
    "\n",
    "import os\n",
    "\n",
    "import numpy as np\n",
    "import matplotlib.pyplot as plt\n",
    "\n",
    "import torch\n",
    "import torchvision\n",
    "from sklearn import datasets\n",
    "\n"
   ]
  },
  {
   "cell_type": "code",
   "execution_count": null,
   "metadata": {
    "collapsed": true
   },
   "outputs": [],
   "source": []
  },
  {
   "cell_type": "markdown",
   "metadata": {},
   "source": [
    "## Problem 0 [0p]\n",
    "1. Get familiar with [lab_guide.pdf](https://github.com/janchorowski/nn_assignments/blob/nn17_fall/lab_guide.pdf). It is not obligatory to use the labs remotely and most of the time you will do just fine with your own machine. However, we recommend using labs for the most computationally-intensive tasks such as the final projects.\n",
    "\n",
    "    Make sure you know how to:\n",
    "    * load the Anaconda Python distribution with `/pio/os/anaconda/set-env.sh` (confirm with `python -V`)\n",
    "    <br/>\n",
    "    (also: look into this `nn_assignments`' `set-env.sh` and see that it loads `Anaconda` for you),\n",
    "    * connect to labs 110/137 from *outside* of the faculty,\n",
    "    * copy a file over an ssh tunnel or connect remotely to a Jupyter Notebook,\n",
    "    * use `GNU screen`, `tmux` and/or `nohup`,\n",
    "    * leave a process running, disconnect, connect again and verify it is still running.\n",
    "  \n",
    "  In case of problems, ask for help!\n",
    "  \n",
    "  \n",
    "2. Read [Jupyter tutorial from Data Analysis in Biological Sciences course at Caltech](http://bebi103.caltech.edu/2015/tutorials/t0b_intro_to_jupyter_notebooks.html) (which itself can be downloaded as a Jupyter notebook). Feel free to skip the tutorial if you have some prior experience with Jupyter notebook."
   ]
  },
  {
   "cell_type": "markdown",
   "metadata": {},
   "source": [
    "## Problem 1 [2p]\n",
    "\n",
    "First, get familiar with Python at https://docs.python.org/2/tutorial/. Then, get\n",
    "to know the capabilities of NumPy, the prime numerical library of Python http://www.numpy.org/, for instance with the tutorial at http://wiki.scipy.org/Tentative_NumPy_Tutorial.\n",
    "\n",
    "You might also need:\n",
    "  1. another intro to NumPy,\n",
    "http://people.duke.edu/~ccc14/pcfb/numerics.html\n",
    "  2. a better interactive shell for Python,\n",
    "http://ipython.org/\n",
    "  3. access to IPython through an ordinary web browser,\n",
    "http://ipython.org/notebook.html\n",
    "  4. a plotting library for Python.\n",
    "http://matplotlib.org/\n",
    "\n",
    "**a) Declare variables:**\n",
    "1. $a=10$,\n",
    "2. $b=2.5\\times 10^{23}$,\n",
    "3. $c=2+3i$, where $i$ is an imaginary unit,\n",
    "4. $d=e^{i2\\pi/3}$, where $i$ is an imaginary unit, $e$ is the Euler's number (use `exp`, `pi`)."
   ]
  },
  {
   "cell_type": "code",
   "execution_count": 6,
   "metadata": {
    "collapsed": true,
    "scrolled": true
   },
   "outputs": [],
   "source": [
    "# TODO: Complete the declarations\n",
    "a = 10\n",
    "b = 2.5 * 10**23\n",
    "c = 2+3j\n",
    "d = np.exp(1j*2*np.pi/3)"
   ]
  },
  {
   "cell_type": "code",
   "execution_count": 7,
   "metadata": {
    "collapsed": false
   },
   "outputs": [
    {
     "data": {
      "text/plain": [
       "10"
      ]
     },
     "execution_count": 7,
     "metadata": {},
     "output_type": "execute_result"
    }
   ],
   "source": [
    "a"
   ]
  },
  {
   "cell_type": "code",
   "execution_count": 8,
   "metadata": {
    "collapsed": false
   },
   "outputs": [
    {
     "data": {
      "text/plain": [
       "2.5e+23"
      ]
     },
     "execution_count": 8,
     "metadata": {},
     "output_type": "execute_result"
    }
   ],
   "source": [
    "b"
   ]
  },
  {
   "cell_type": "code",
   "execution_count": 9,
   "metadata": {
    "collapsed": false
   },
   "outputs": [
    {
     "data": {
      "text/plain": [
       "(2+3j)"
      ]
     },
     "execution_count": 9,
     "metadata": {},
     "output_type": "execute_result"
    }
   ],
   "source": [
    "c"
   ]
  },
  {
   "cell_type": "code",
   "execution_count": 10,
   "metadata": {
    "collapsed": false
   },
   "outputs": [
    {
     "data": {
      "text/plain": [
       "(-0.49999999999999978+0.86602540378443871j)"
      ]
     },
     "execution_count": 10,
     "metadata": {},
     "output_type": "execute_result"
    }
   ],
   "source": [
    "d"
   ]
  },
  {
   "cell_type": "code",
   "execution_count": null,
   "metadata": {
    "collapsed": true
   },
   "outputs": [],
   "source": []
  },
  {
   "cell_type": "markdown",
   "metadata": {},
   "source": [
    "**b) Declare vectors:**\n",
    "1. $aVec=\\begin{bmatrix} 3.14 & 15 & 9 & 26 \\end{bmatrix}$,\n",
    "2. $bVec=\\begin{bmatrix} 2.71 & 8 & 28 & 182 \\end{bmatrix}^\\intercal$ (column vector),\n",
    "3. $cVec=\\begin{bmatrix} 5 & 4.8 & \\cdots & -4.8 & -5 \\end{bmatrix}$ (vector of numbers from $5$ to $-5$ decreasing by $0.2$),\n",
    "4. $dVec=\\begin{bmatrix} 10^0 & 10^{0.01} & \\cdots & 10^{0.99} & 10^1 \\end{bmatrix}$ (logarithmically spaced numbers from 1 to 10, use `logspace` and make sure, that the result has correct length!),\n",
    "5. $eVec=Hello$ ($eVec$ is a string of characters, thus a vector)."
   ]
  },
  {
   "cell_type": "code",
   "execution_count": 22,
   "metadata": {
    "collapsed": true
   },
   "outputs": [],
   "source": [
    "aVec = np.array([3.14, 15, 9, 26])\n",
    "bVec = np.array([[2.71],\n",
    "                 [8],\n",
    "                 [28],\n",
    "                 [182]])\n",
    "cVec = np.arange(5, -5.1, -0.2)\n",
    "#logspace(start, stop, num=50, endpoint=True, base=10.0, dtype=None)\n",
    "dVec = np.logspace(0, 1, num=101, endpoint=True, base=10.0)\n",
    "eVec = np.array(list('Hello'))"
   ]
  },
  {
   "cell_type": "code",
   "execution_count": 23,
   "metadata": {
    "collapsed": false
   },
   "outputs": [
    {
     "data": {
      "text/plain": [
       "array(['H', 'e', 'l', 'l', 'o'],\n",
       "      dtype='|S1')"
      ]
     },
     "execution_count": 23,
     "metadata": {},
     "output_type": "execute_result"
    }
   ],
   "source": [
    "eVec"
   ]
  },
  {
   "cell_type": "code",
   "execution_count": 62,
   "metadata": {
    "collapsed": false
   },
   "outputs": [
    {
     "data": {
      "text/plain": [
       "array([[   2.71],\n",
       "       [   8.  ],\n",
       "       [  28.  ],\n",
       "       [ 182.  ]])"
      ]
     },
     "execution_count": 62,
     "metadata": {},
     "output_type": "execute_result"
    }
   ],
   "source": [
    "bVec"
   ]
  },
  {
   "cell_type": "code",
   "execution_count": 63,
   "metadata": {
    "collapsed": false
   },
   "outputs": [
    {
     "data": {
      "text/plain": [
       "array([  5.00000000e+00,   4.80000000e+00,   4.60000000e+00,\n",
       "         4.40000000e+00,   4.20000000e+00,   4.00000000e+00,\n",
       "         3.80000000e+00,   3.60000000e+00,   3.40000000e+00,\n",
       "         3.20000000e+00,   3.00000000e+00,   2.80000000e+00,\n",
       "         2.60000000e+00,   2.40000000e+00,   2.20000000e+00,\n",
       "         2.00000000e+00,   1.80000000e+00,   1.60000000e+00,\n",
       "         1.40000000e+00,   1.20000000e+00,   1.00000000e+00,\n",
       "         8.00000000e-01,   6.00000000e-01,   4.00000000e-01,\n",
       "         2.00000000e-01,  -4.44089210e-15,  -2.00000000e-01,\n",
       "        -4.00000000e-01,  -6.00000000e-01,  -8.00000000e-01,\n",
       "        -1.00000000e+00,  -1.20000000e+00,  -1.40000000e+00,\n",
       "        -1.60000000e+00,  -1.80000000e+00,  -2.00000000e+00,\n",
       "        -2.20000000e+00,  -2.40000000e+00,  -2.60000000e+00,\n",
       "        -2.80000000e+00,  -3.00000000e+00,  -3.20000000e+00,\n",
       "        -3.40000000e+00,  -3.60000000e+00,  -3.80000000e+00,\n",
       "        -4.00000000e+00,  -4.20000000e+00,  -4.40000000e+00,\n",
       "        -4.60000000e+00,  -4.80000000e+00,  -5.00000000e+00])"
      ]
     },
     "execution_count": 63,
     "metadata": {},
     "output_type": "execute_result"
    }
   ],
   "source": [
    "cVec"
   ]
  },
  {
   "cell_type": "code",
   "execution_count": 64,
   "metadata": {
    "collapsed": false
   },
   "outputs": [
    {
     "data": {
      "text/plain": [
       "array([  1.        ,   1.02329299,   1.04712855,   1.07151931,\n",
       "         1.0964782 ,   1.12201845,   1.14815362,   1.17489755,\n",
       "         1.20226443,   1.23026877,   1.25892541,   1.28824955,\n",
       "         1.31825674,   1.34896288,   1.38038426,   1.41253754,\n",
       "         1.44543977,   1.47910839,   1.51356125,   1.54881662,\n",
       "         1.58489319,   1.6218101 ,   1.65958691,   1.69824365,\n",
       "         1.73780083,   1.77827941,   1.81970086,   1.86208714,\n",
       "         1.90546072,   1.9498446 ,   1.99526231,   2.04173794,\n",
       "         2.08929613,   2.13796209,   2.18776162,   2.23872114,\n",
       "         2.29086765,   2.34422882,   2.39883292,   2.45470892,\n",
       "         2.51188643,   2.57039578,   2.63026799,   2.6915348 ,\n",
       "         2.7542287 ,   2.81838293,   2.8840315 ,   2.95120923,\n",
       "         3.01995172,   3.09029543,   3.16227766,   3.23593657,\n",
       "         3.31131121,   3.38844156,   3.4673685 ,   3.54813389,\n",
       "         3.63078055,   3.71535229,   3.80189396,   3.89045145,\n",
       "         3.98107171,   4.07380278,   4.16869383,   4.26579519,\n",
       "         4.36515832,   4.46683592,   4.5708819 ,   4.67735141,\n",
       "         4.78630092,   4.89778819,   5.01187234,   5.12861384,\n",
       "         5.2480746 ,   5.37031796,   5.49540874,   5.62341325,\n",
       "         5.75439937,   5.88843655,   6.02559586,   6.16595002,\n",
       "         6.30957344,   6.45654229,   6.60693448,   6.76082975,\n",
       "         6.91830971,   7.07945784,   7.2443596 ,   7.41310241,\n",
       "         7.58577575,   7.76247117,   7.94328235,   8.12830516,\n",
       "         8.31763771,   8.51138038,   8.7096359 ,   8.91250938,\n",
       "         9.12010839,   9.33254301,   9.54992586,   9.77237221,  10.        ])"
      ]
     },
     "execution_count": 64,
     "metadata": {},
     "output_type": "execute_result"
    }
   ],
   "source": [
    "dVec"
   ]
  },
  {
   "cell_type": "code",
   "execution_count": 70,
   "metadata": {
    "collapsed": false
   },
   "outputs": [
    {
     "data": {
      "text/plain": [
       "'Hello'"
      ]
     },
     "execution_count": 70,
     "metadata": {},
     "output_type": "execute_result"
    }
   ],
   "source": [
    "eVec"
   ]
  },
  {
   "cell_type": "markdown",
   "metadata": {},
   "source": [
    "**c) Declare matrices:**\n",
    "1. $aMat=\\begin{bmatrix}\n",
    "                    2      & \\cdots & 2 \\\\\n",
    "                    \\vdots & \\ddots & \\vdots \\\\\n",
    "                    2      & \\cdots & 2\n",
    "                \\end{bmatrix}$,\n",
    "<br/>\n",
    "matrix $9\\times 9$ filled with 2s (use `ones` or `zeros`),\n",
    "2. $bMat=\\begin{bmatrix}\n",
    "                    1      & 0      & \\cdots &        & 0      \\\\\n",
    "                    0      & \\ddots & 0      &        & 0      \\\\\n",
    "                    \\vdots & 0      & 5      & 0      & \\vdots \\\\\n",
    "                           &        & 0      & \\ddots & 0      \\\\\n",
    "                    0      &        & \\cdots & 0      & 1\n",
    "                \\end{bmatrix}$,\n",
    "<br/>\n",
    "matrix $9\\times 9$ filled with zeros, with $\\begin{bmatrix} 1 & 2 & 3 & 4 & 5 & 4 & 3 & 2 & 1 \\end{bmatrix}$ on its diagonal (use `zeros`, `diag`),\n",
    "3. $cMat=\\begin{bmatrix}\n",
    "                    1      & 11     & \\cdots & 91     \\\\\n",
    "                    2      & 12     & \\ddots & 92     \\\\\n",
    "                    \\vdots & \\vdots & \\ddots & \\vdots \\\\\n",
    "                    10     & 20     & \\cdots & 100\n",
    "                \\end{bmatrix}$,\n",
    "<br/>\n",
    "matrix $10\\times 10$, columns of which form the vector $1:100$ (use `reshape`),\n",
    "4. $dMat=\\begin{bmatrix}\n",
    "                    NaN & NaN & NaN & NaN \\\\\n",
    "                    NaN & NaN & NaN & NaN \\\\\n",
    "                    NaN & NaN & NaN & NaN\n",
    "                \\end{bmatrix}$,\n",
    "<br/>\n",
    "matrix $3\\times 4$ filled with `NaN`s (use... `NaN`),\n",
    "5. $eMat=\\begin{bmatrix}\n",
    "                    13  & -1  & 5  \\\\\n",
    "                    -22 & 10  & -87\n",
    "                \\end{bmatrix}$,\n",
    "<br/>\n",
    "6. $fMat$ filled with random natural numbers from $[-3,3]$ (use `rand` and `floor` or `ceil`)."
   ]
  },
  {
   "cell_type": "code",
   "execution_count": 24,
   "metadata": {
    "collapsed": true
   },
   "outputs": [],
   "source": [
    "np.full?"
   ]
  },
  {
   "cell_type": "code",
   "execution_count": 170,
   "metadata": {
    "collapsed": true
   },
   "outputs": [],
   "source": [
    "aMat = np.ones((9,9))*2\n",
    "bMat = np.diag(np.array([1,2,3,4,5,4,3,2,1]))\n",
    "cMat = np.arange(100).reshape(10,10).transpose()+1\n",
    "dMat = np.full((3,4), np.nan)\n",
    "eMat = np.array([[13,-1,5],\n",
    "                 [-22,10,-87]])\n",
    "fMat = np.floor(np.random.rand(10,10)*7-3)"
   ]
  },
  {
   "cell_type": "code",
   "execution_count": 171,
   "metadata": {
    "collapsed": false
   },
   "outputs": [
    {
     "data": {
      "text/plain": [
       "array([[ 2.,  2.,  2.,  2.,  2.,  2.,  2.,  2.,  2.],\n",
       "       [ 2.,  2.,  2.,  2.,  2.,  2.,  2.,  2.,  2.],\n",
       "       [ 2.,  2.,  2.,  2.,  2.,  2.,  2.,  2.,  2.],\n",
       "       [ 2.,  2.,  2.,  2.,  2.,  2.,  2.,  2.,  2.],\n",
       "       [ 2.,  2.,  2.,  2.,  2.,  2.,  2.,  2.,  2.],\n",
       "       [ 2.,  2.,  2.,  2.,  2.,  2.,  2.,  2.,  2.],\n",
       "       [ 2.,  2.,  2.,  2.,  2.,  2.,  2.,  2.,  2.],\n",
       "       [ 2.,  2.,  2.,  2.,  2.,  2.,  2.,  2.,  2.],\n",
       "       [ 2.,  2.,  2.,  2.,  2.,  2.,  2.,  2.,  2.]])"
      ]
     },
     "execution_count": 171,
     "metadata": {},
     "output_type": "execute_result"
    }
   ],
   "source": [
    "aMat"
   ]
  },
  {
   "cell_type": "code",
   "execution_count": 172,
   "metadata": {
    "collapsed": false
   },
   "outputs": [
    {
     "data": {
      "text/plain": [
       "array([[1, 0, 0, 0, 0, 0, 0, 0, 0],\n",
       "       [0, 2, 0, 0, 0, 0, 0, 0, 0],\n",
       "       [0, 0, 3, 0, 0, 0, 0, 0, 0],\n",
       "       [0, 0, 0, 4, 0, 0, 0, 0, 0],\n",
       "       [0, 0, 0, 0, 5, 0, 0, 0, 0],\n",
       "       [0, 0, 0, 0, 0, 4, 0, 0, 0],\n",
       "       [0, 0, 0, 0, 0, 0, 3, 0, 0],\n",
       "       [0, 0, 0, 0, 0, 0, 0, 2, 0],\n",
       "       [0, 0, 0, 0, 0, 0, 0, 0, 1]])"
      ]
     },
     "execution_count": 172,
     "metadata": {},
     "output_type": "execute_result"
    }
   ],
   "source": [
    "bMat"
   ]
  },
  {
   "cell_type": "code",
   "execution_count": 173,
   "metadata": {
    "collapsed": false
   },
   "outputs": [
    {
     "data": {
      "text/plain": [
       "array([[  1,  11,  21,  31,  41,  51,  61,  71,  81,  91],\n",
       "       [  2,  12,  22,  32,  42,  52,  62,  72,  82,  92],\n",
       "       [  3,  13,  23,  33,  43,  53,  63,  73,  83,  93],\n",
       "       [  4,  14,  24,  34,  44,  54,  64,  74,  84,  94],\n",
       "       [  5,  15,  25,  35,  45,  55,  65,  75,  85,  95],\n",
       "       [  6,  16,  26,  36,  46,  56,  66,  76,  86,  96],\n",
       "       [  7,  17,  27,  37,  47,  57,  67,  77,  87,  97],\n",
       "       [  8,  18,  28,  38,  48,  58,  68,  78,  88,  98],\n",
       "       [  9,  19,  29,  39,  49,  59,  69,  79,  89,  99],\n",
       "       [ 10,  20,  30,  40,  50,  60,  70,  80,  90, 100]])"
      ]
     },
     "execution_count": 173,
     "metadata": {},
     "output_type": "execute_result"
    }
   ],
   "source": [
    "cMat"
   ]
  },
  {
   "cell_type": "code",
   "execution_count": 174,
   "metadata": {
    "collapsed": false
   },
   "outputs": [
    {
     "data": {
      "text/plain": [
       "array([[ nan,  nan,  nan,  nan],\n",
       "       [ nan,  nan,  nan,  nan],\n",
       "       [ nan,  nan,  nan,  nan]])"
      ]
     },
     "execution_count": 174,
     "metadata": {},
     "output_type": "execute_result"
    }
   ],
   "source": [
    "dMat"
   ]
  },
  {
   "cell_type": "code",
   "execution_count": 175,
   "metadata": {
    "collapsed": false
   },
   "outputs": [
    {
     "data": {
      "text/plain": [
       "array([[ 13,  -1,   5],\n",
       "       [-22,  10, -87]])"
      ]
     },
     "execution_count": 175,
     "metadata": {},
     "output_type": "execute_result"
    }
   ],
   "source": [
    "eMat"
   ]
  },
  {
   "cell_type": "code",
   "execution_count": 176,
   "metadata": {
    "collapsed": false
   },
   "outputs": [
    {
     "data": {
      "text/plain": [
       "array([[ 2.,  0.,  3., -1.,  3.,  3., -1., -2.,  1., -2.],\n",
       "       [-1., -1.,  3., -2.,  0., -3.,  1.,  1., -1.,  2.],\n",
       "       [-1.,  2.,  1., -1.,  2.,  3., -2.,  1.,  2.,  2.],\n",
       "       [ 3., -3.,  0.,  1.,  1., -2., -1.,  2.,  1., -2.],\n",
       "       [-3., -1., -2., -2.,  0., -1., -1., -3.,  2., -2.],\n",
       "       [ 0., -2.,  3., -2., -2., -2.,  2., -3.,  3.,  2.],\n",
       "       [ 2., -3., -3.,  2.,  2., -1.,  3.,  1.,  1.,  2.],\n",
       "       [-2.,  3., -3.,  3., -3.,  0., -3.,  1.,  2.,  2.],\n",
       "       [-1.,  2., -2., -1., -3., -2.,  1.,  3.,  2., -3.],\n",
       "       [ 1.,  2.,  1., -1., -2.,  3.,  3.,  2.,  1., -3.]])"
      ]
     },
     "execution_count": 176,
     "metadata": {},
     "output_type": "execute_result"
    }
   ],
   "source": [
    "fMat"
   ]
  },
  {
   "cell_type": "markdown",
   "metadata": {},
   "source": [
    "** d) Declare a multiplication table ** as a $10\\times 10$ matrix `mulMat`. Use matrix/vector multiplication."
   ]
  },
  {
   "cell_type": "code",
   "execution_count": 219,
   "metadata": {
    "collapsed": true
   },
   "outputs": [],
   "source": [
    "mulMat = np.multiply(np.arange(10).reshape(-1,1)+1, np.arange(10)+1)"
   ]
  },
  {
   "cell_type": "code",
   "execution_count": 220,
   "metadata": {
    "collapsed": false
   },
   "outputs": [
    {
     "data": {
      "text/plain": [
       "array([[  1,   2,   3,   4,   5,   6,   7,   8,   9,  10],\n",
       "       [  2,   4,   6,   8,  10,  12,  14,  16,  18,  20],\n",
       "       [  3,   6,   9,  12,  15,  18,  21,  24,  27,  30],\n",
       "       [  4,   8,  12,  16,  20,  24,  28,  32,  36,  40],\n",
       "       [  5,  10,  15,  20,  25,  30,  35,  40,  45,  50],\n",
       "       [  6,  12,  18,  24,  30,  36,  42,  48,  54,  60],\n",
       "       [  7,  14,  21,  28,  35,  42,  49,  56,  63,  70],\n",
       "       [  8,  16,  24,  32,  40,  48,  56,  64,  72,  80],\n",
       "       [  9,  18,  27,  36,  45,  54,  63,  72,  81,  90],\n",
       "       [ 10,  20,  30,  40,  50,  60,  70,  80,  90, 100]])"
      ]
     },
     "execution_count": 220,
     "metadata": {},
     "output_type": "execute_result"
    }
   ],
   "source": [
    "mulMat"
   ]
  },
  {
   "cell_type": "markdown",
   "metadata": {},
   "source": [
    "** e) Compute elemwise using values from b).**\n",
    "For instance, the first element of $xVec[0]$ should be equal to\n",
    "\n",
    "\\begin{equation}\n",
    "1/(\\sqrt{2\\pi2.5^2}) e^{-cVec[0]^2 / (2\\cdot\\pi 2.5^2)}.\n",
    "\\end{equation}\n",
    "\n",
    "1. $xVec=1/(\\sqrt{2\\pi2.5^2}) e^{-cVec^2 / (2\\cdot\\pi 2.5^2)}$\n",
    "2. $yVec=\\sqrt{(aVec^\\intercal)^2 + bVec^2}$\n",
    "3. $zVec=\\log_{10}(1/dVec)$, using `log10`"
   ]
  },
  {
   "cell_type": "code",
   "execution_count": 242,
   "metadata": {
    "collapsed": true
   },
   "outputs": [],
   "source": [
    "xVec = 1/(np.sqrt(2*np.pi*(2.5**2)))*np.exp(-cVec**2/2*np.pi*(2.5**2))\n",
    "yVec = np.sqrt(aVec.reshape(-1,1)**2 + bVec**2)\n",
    "zVec = np.log10(1/dVec)"
   ]
  },
  {
   "cell_type": "code",
   "execution_count": 243,
   "metadata": {
    "collapsed": false
   },
   "outputs": [
    {
     "data": {
      "text/plain": [
       "array([  4.08382773e-108,   9.28693873e-100,   9.62905482e-092,\n",
       "         4.55198319e-084,   9.81123214e-077,   9.64167226e-070,\n",
       "         4.32003326e-063,   8.82526442e-057,   8.22004651e-051,\n",
       "         3.49081420e-045,   6.75904138e-040,   5.96690864e-035,\n",
       "         2.40170456e-030,   4.40753417e-026,   3.68788785e-022,\n",
       "         1.40690779e-018,   2.44714371e-015,   1.94070367e-012,\n",
       "         7.01721673e-010,   1.15684844e-007,   8.69548783e-006,\n",
       "         2.98000745e-004,   4.65636117e-003,   3.31727809e-002,\n",
       "         1.07751423e-001,   1.59576912e-001,   1.07751423e-001,\n",
       "         3.31727809e-002,   4.65636117e-003,   2.98000745e-004,\n",
       "         8.69548783e-006,   1.15684844e-007,   7.01721673e-010,\n",
       "         1.94070367e-012,   2.44714371e-015,   1.40690779e-018,\n",
       "         3.68788785e-022,   4.40753417e-026,   2.40170456e-030,\n",
       "         5.96690864e-035,   6.75904138e-040,   3.49081420e-045,\n",
       "         8.22004651e-051,   8.82526442e-057,   4.32003326e-063,\n",
       "         9.64167226e-070,   9.81123214e-077,   4.55198319e-084,\n",
       "         9.62905482e-092,   9.28693873e-100,   4.08382773e-108])"
      ]
     },
     "execution_count": 243,
     "metadata": {},
     "output_type": "execute_result"
    }
   ],
   "source": [
    "xVec"
   ]
  },
  {
   "cell_type": "code",
   "execution_count": 244,
   "metadata": {
    "collapsed": false
   },
   "outputs": [
    {
     "data": {
      "text/plain": [
       "array([[   4.14773432],\n",
       "       [  17.        ],\n",
       "       [  29.41088234],\n",
       "       [ 183.84776311]])"
      ]
     },
     "execution_count": 244,
     "metadata": {},
     "output_type": "execute_result"
    }
   ],
   "source": [
    "yVec"
   ]
  },
  {
   "cell_type": "code",
   "execution_count": 245,
   "metadata": {
    "collapsed": false
   },
   "outputs": [
    {
     "data": {
      "text/plain": [
       "array([ 0.  , -0.01, -0.02, -0.03, -0.04, -0.05, -0.06, -0.07, -0.08,\n",
       "       -0.09, -0.1 , -0.11, -0.12, -0.13, -0.14, -0.15, -0.16, -0.17,\n",
       "       -0.18, -0.19, -0.2 , -0.21, -0.22, -0.23, -0.24, -0.25, -0.26,\n",
       "       -0.27, -0.28, -0.29, -0.3 , -0.31, -0.32, -0.33, -0.34, -0.35,\n",
       "       -0.36, -0.37, -0.38, -0.39, -0.4 , -0.41, -0.42, -0.43, -0.44,\n",
       "       -0.45, -0.46, -0.47, -0.48, -0.49, -0.5 , -0.51, -0.52, -0.53,\n",
       "       -0.54, -0.55, -0.56, -0.57, -0.58, -0.59, -0.6 , -0.61, -0.62,\n",
       "       -0.63, -0.64, -0.65, -0.66, -0.67, -0.68, -0.69, -0.7 , -0.71,\n",
       "       -0.72, -0.73, -0.74, -0.75, -0.76, -0.77, -0.78, -0.79, -0.8 ,\n",
       "       -0.81, -0.82, -0.83, -0.84, -0.85, -0.86, -0.87, -0.88, -0.89,\n",
       "       -0.9 , -0.91, -0.92, -0.93, -0.94, -0.95, -0.96, -0.97, -0.98,\n",
       "       -0.99, -1.  ])"
      ]
     },
     "execution_count": 245,
     "metadata": {},
     "output_type": "execute_result"
    }
   ],
   "source": [
    "zVec"
   ]
  },
  {
   "cell_type": "markdown",
   "metadata": {},
   "source": [
    "** f) Compute with matrix/vector operations using values from c).**\n",
    "\n",
    "**NOTE:** Every multiplication (and power) in this subtask is a [matrix multiplication](https://en.wikipedia.org/wiki/Matrix_multiplication).\n",
    "1. $xMat=(aVec\\cdot bVec)aMat^2$,\n",
    "2. $yMat=bVec\\cdot aVec$\n",
    "<br/>\n",
    "(remember, that matrix multiplication is not commutative),\n",
    "4. $zMat=\\lvert cMat\\rvert (aMat\\cdot bMat)^\\intercal$, where $\\lvert A\\rvert$ denotes determinant of $A$ (use `det`)."
   ]
  },
  {
   "cell_type": "code",
   "execution_count": 26,
   "metadata": {
    "collapsed": true
   },
   "outputs": [],
   "source": [
    "np.multiply?"
   ]
  },
  {
   "cell_type": "code",
   "execution_count": 291,
   "metadata": {
    "collapsed": false
   },
   "outputs": [
    {
     "ename": "ValueError",
     "evalue": "shapes (1,) and (9,9) not aligned: 1 (dim 0) != 9 (dim 0)",
     "output_type": "error",
     "traceback": [
      "\u001b[0;31m---------------------------------------------------------------------------\u001b[0m",
      "\u001b[0;31mValueError\u001b[0m                                Traceback (most recent call last)",
      "\u001b[0;32m<ipython-input-291-45d1946bbc68>\u001b[0m in \u001b[0;36m<module>\u001b[0;34m()\u001b[0m\n\u001b[0;32m----> 1\u001b[0;31m \u001b[0mxMat\u001b[0m \u001b[0;34m=\u001b[0m \u001b[0mnp\u001b[0m\u001b[0;34m.\u001b[0m\u001b[0mdot\u001b[0m\u001b[0;34m(\u001b[0m\u001b[0mnp\u001b[0m\u001b[0;34m.\u001b[0m\u001b[0mdot\u001b[0m\u001b[0;34m(\u001b[0m\u001b[0maVec\u001b[0m\u001b[0;34m,\u001b[0m \u001b[0mbVec\u001b[0m\u001b[0;34m)\u001b[0m\u001b[0;34m,\u001b[0m \u001b[0mnp\u001b[0m\u001b[0;34m.\u001b[0m\u001b[0mdot\u001b[0m\u001b[0;34m(\u001b[0m\u001b[0maMat\u001b[0m\u001b[0;34m,\u001b[0m \u001b[0maMat\u001b[0m\u001b[0;34m)\u001b[0m\u001b[0;34m)\u001b[0m \u001b[0;31m#np.multiply(np.dot(aVec, bVec), np.dot(aMat, aMat))\u001b[0m\u001b[0;34m\u001b[0m\u001b[0m\n\u001b[0m\u001b[1;32m      2\u001b[0m \u001b[0myMat\u001b[0m \u001b[0;34m=\u001b[0m \u001b[0mnp\u001b[0m\u001b[0;34m.\u001b[0m\u001b[0mmultiply\u001b[0m\u001b[0;34m(\u001b[0m\u001b[0mbVec\u001b[0m\u001b[0;34m,\u001b[0m \u001b[0maVec\u001b[0m\u001b[0;34m)\u001b[0m\u001b[0;34m\u001b[0m\u001b[0m\n\u001b[1;32m      3\u001b[0m \u001b[0mzMat\u001b[0m \u001b[0;34m=\u001b[0m \u001b[0mnp\u001b[0m\u001b[0;34m.\u001b[0m\u001b[0mmultiply\u001b[0m\u001b[0;34m(\u001b[0m\u001b[0mnp\u001b[0m\u001b[0;34m.\u001b[0m\u001b[0mlinalg\u001b[0m\u001b[0;34m.\u001b[0m\u001b[0mdet\u001b[0m\u001b[0;34m(\u001b[0m\u001b[0mcMat\u001b[0m\u001b[0;34m)\u001b[0m\u001b[0;34m,\u001b[0m \u001b[0mnp\u001b[0m\u001b[0;34m.\u001b[0m\u001b[0mtranspose\u001b[0m\u001b[0;34m(\u001b[0m\u001b[0mnp\u001b[0m\u001b[0;34m.\u001b[0m\u001b[0mmultiply\u001b[0m\u001b[0;34m(\u001b[0m\u001b[0maMat\u001b[0m\u001b[0;34m,\u001b[0m \u001b[0mbMat\u001b[0m\u001b[0;34m)\u001b[0m\u001b[0;34m)\u001b[0m\u001b[0;34m)\u001b[0m\u001b[0;34m\u001b[0m\u001b[0m\n",
      "\u001b[0;31mValueError\u001b[0m: shapes (1,) and (9,9) not aligned: 1 (dim 0) != 9 (dim 0)"
     ]
    }
   ],
   "source": [
    "xMat = np.dot(np.dot(aVec, bVec), np.dot(aMat, aMat)) #np.multiply(np.dot(aVec, bVec), np.dot(aMat, aMat))\n",
    "yMat = np.multiply(bVec, aVec)\n",
    "zMat = np.multiply(np.linalg.det(cMat), np.transpose(np.multiply(aMat, bMat)))"
   ]
  },
  {
   "cell_type": "code",
   "execution_count": 289,
   "metadata": {
    "collapsed": false,
    "scrolled": true
   },
   "outputs": [
    {
     "data": {
      "text/plain": [
       "array([[    8.5094,    40.65  ,    24.39  ,    70.46  ],\n",
       "       [   25.12  ,   120.    ,    72.    ,   208.    ],\n",
       "       [   87.92  ,   420.    ,   252.    ,   728.    ],\n",
       "       [  571.48  ,  2730.    ,  1638.    ,  4732.    ]])"
      ]
     },
     "execution_count": 289,
     "metadata": {},
     "output_type": "execute_result"
    }
   ],
   "source": [
    "yMat"
   ]
  },
  {
   "cell_type": "code",
   "execution_count": 290,
   "metadata": {
    "collapsed": false
   },
   "outputs": [
    {
     "data": {
      "text/plain": [
       "array([[ 0.,  0.,  0.,  0.,  0.,  0.,  0.,  0.,  0.],\n",
       "       [ 0.,  0.,  0.,  0.,  0.,  0.,  0.,  0.,  0.],\n",
       "       [ 0.,  0.,  0.,  0.,  0.,  0.,  0.,  0.,  0.],\n",
       "       [ 0.,  0.,  0.,  0.,  0.,  0.,  0.,  0.,  0.],\n",
       "       [ 0.,  0.,  0.,  0.,  0.,  0.,  0.,  0.,  0.],\n",
       "       [ 0.,  0.,  0.,  0.,  0.,  0.,  0.,  0.,  0.],\n",
       "       [ 0.,  0.,  0.,  0.,  0.,  0.,  0.,  0.,  0.],\n",
       "       [ 0.,  0.,  0.,  0.,  0.,  0.,  0.,  0.,  0.],\n",
       "       [ 0.,  0.,  0.,  0.,  0.,  0.,  0.,  0.,  0.]])"
      ]
     },
     "execution_count": 290,
     "metadata": {},
     "output_type": "execute_result"
    }
   ],
   "source": [
    "zMat"
   ]
  },
  {
   "cell_type": "markdown",
   "metadata": {},
   "source": [
    "** g) Declare `ismagic(A)` function ** which checks if matrix $A$ is a [magic square](https://en.wikipedia.org/wiki/Magic_square) and returns a boolean."
   ]
  },
  {
   "cell_type": "code",
   "execution_count": 72,
   "metadata": {
    "collapsed": true
   },
   "outputs": [],
   "source": [
    "np.sum?"
   ]
  },
  {
   "cell_type": "code",
   "execution_count": null,
   "metadata": {
    "collapsed": true
   },
   "outputs": [],
   "source": [
    "A.sum(axis=0)"
   ]
  },
  {
   "cell_type": "code",
   "execution_count": 106,
   "metadata": {
    "collapsed": true
   },
   "outputs": [],
   "source": [
    "def ismagic(A):\n",
    "    dimensions = int(np.sqrt(A.size))\n",
    "    diag1 = np.sum(np.diag(A))\n",
    "    diag2 = np.sum(np.diag(np.fliplr(A)))\n",
    "    row_sum = A.sum(axis=0)\n",
    "    col_sum = A.sum(axis=1)\n",
    "    if((col_sum != row_sum).any() or (row_sum != diag1).any() or (diag1 != diag2)):\n",
    "        return False\n",
    "    print (row_sum)\n",
    "    print (diag1)\n",
    "    return True"
   ]
  },
  {
   "cell_type": "code",
   "execution_count": 27,
   "metadata": {
    "collapsed": true
   },
   "outputs": [],
   "source": [
    "np.sum?"
   ]
  },
  {
   "cell_type": "code",
   "execution_count": 107,
   "metadata": {
    "collapsed": false
   },
   "outputs": [
    {
     "name": "stdout",
     "output_type": "stream",
     "text": [
      "[ 15.  15.  15.]\n",
      "15.0\n"
     ]
    },
    {
     "data": {
      "text/plain": [
       "True"
      ]
     },
     "execution_count": 107,
     "metadata": {},
     "output_type": "execute_result"
    }
   ],
   "source": [
    "A = np.array([[ 2.,  7.,  6.],\n",
    "              [ 9.,  5.,  1.],\n",
    "              [ 4.,  3.,  8.]])\n",
    "\n",
    "ismagic(A) \n"
   ]
  },
  {
   "cell_type": "markdown",
   "metadata": {},
   "source": [
    "# k-Nearest Neighbors\n",
    "\n",
    "The following excerpt of code loads the data describing iris flowers\n",
    "and shows relations between their length and petal width for three\n",
    "species (namely: setosa, versicolor, virginica)."
   ]
  },
  {
   "cell_type": "code",
   "execution_count": 29,
   "metadata": {
    "collapsed": false
   },
   "outputs": [
    {
     "name": "stdout",
     "output_type": "stream",
     "text": [
      "Populating the interactive namespace from numpy and matplotlib\n",
      "Features:  ['sepal length (cm)', 'sepal width (cm)', 'petal length (cm)', 'petal width (cm)']\n",
      "Targets:  ['setosa' 'versicolor' 'virginica']\n"
     ]
    },
    {
     "data": {
      "image/png": "[encoded data removed]",
      "text/plain": [
       "<matplotlib.figure.Figure at 0x7f72edb69650>"
      ]
     },
     "metadata": {},
     "output_type": "display_data"
    }
   ],
   "source": [
    "# pylab - loads numerical and graphical libraries into the IPython notebook\n",
    "%pylab inline\n",
    "\n",
    "# sklearn is a large collection of machine learning algorithms\n",
    "# here we’ll use it only for the built-in iris dataset\n",
    "from sklearn import datasets\n",
    "\n",
    "iris = datasets.load_iris()\n",
    "\n",
    "print('Features: ', iris.feature_names)\n",
    "print('Targets: ', iris.target_names)\n",
    "\n",
    "petal_length = iris.data[:, iris.feature_names.index('petal length (cm)')]\n",
    "petal_width = iris.data[:, iris.feature_names.index('petal width (cm)')]\n",
    "\n",
    "for target in set(iris.target):\n",
    "    example_ids = target == iris.target\n",
    "    scatter(petal_length[example_ids], petal_width[example_ids],\n",
    "            label=iris.target_names[target], color='bgr'[target],\n",
    "            marker='x', alpha=0.7)\n",
    "unknown = np.array([\n",
    "    [1.5, 0.3],\n",
    "    [4.5, 1.2],\n",
    "    [5.5, 2.3],\n",
    "    [5.1, 1.7]\n",
    "])\n",
    "scatter(unknown[:, 0], unknown[:, 1], marker='v',\n",
    "        color='gray', s=50, label='??')\n",
    "xlabel('petal length (cm)')\n",
    "ylabel('petal width (cm)')\n",
    "grid(True)\n",
    "legend(loc='upper left');"
   ]
  },
  {
   "cell_type": "markdown",
   "metadata": {},
   "source": [
    "Based on these two features, it is easy to distinguish iris setosa from the two remaining species. Yet iris versicolor and virginica remain mixed together. \n",
    "\n",
    "Looking closely at the plot, we might estimate the species of the selected unknown irises (gray triangles). For three of them the answer seems obvious – they belong in uniformly-colored areas covered by one species only. Yet unknown iris flower in (5.1, 1.7) is troublesome – it lays on the boundary of versicolor and virginica clusters. We can assume, that its species is the one of the closest one to it, coming from the training set (and so having a label). \n",
    "\n",
    "K-Nearest Neighbors method (http://en.wikipedia.org/wiki/K-nearest_neighbors_algorithm) solves the classification problem, i.e. sets class labels (species in case of irises) of a previously unseen sample by choosing the most common class among the top k neighbors of the sample in question (for instance according to the Euclidean distance). Thus, the k-Nearest Neighbors algorithm works as follows. For each unlabeled sample x:\n",
    "1. Find k nearest neighbors among the labeled samples.\n",
    "2. Set the most common label among them as label of x."
   ]
  },
  {
   "cell_type": "markdown",
   "metadata": {},
   "source": [
    "## Problem 2 [2p]\n",
    "\n",
    "1.  **[1p]** Load the iris data (in Python it’s built-in into machine learning libraries, use sklearn.datasets.load_iris), the data is also available on-line at https://archive.ics.uci.edu/ml/datasets/Iris\n",
    "\n",
    "2.  **[1p]** Irises are described with 4 attributes: petal and sepal widths and lengths. We often plot such data as matrices depicting relationships between pairs of attributes (the diagonal of which holds an ordinary histogram). Write code making a plot like the one below. Please pay attention to the details: make a proper legend and correctly label the axes.\n",
    "\n",
    "<img src=\"iris4x4.png\"/>"
   ]
  },
  {
   "cell_type": "code",
   "execution_count": 77,
   "metadata": {
    "collapsed": true
   },
   "outputs": [],
   "source": [
    "from sklearn import datasets\n",
    "iris = datasets.load_iris()"
   ]
  },
  {
   "cell_type": "code",
   "execution_count": 78,
   "metadata": {
    "collapsed": false
   },
   "outputs": [
    {
     "name": "stdout",
     "output_type": "stream",
     "text": [
      "Populating the interactive namespace from numpy and matplotlib\n"
     ]
    },
    {
     "data": {
      "image/png": "[encoded data removed]",
      "text/plain": [
       "<matplotlib.figure.Figure at 0x7f396c601e50>"
      ]
     },
     "metadata": {},
     "output_type": "display_data"
    }
   ],
   "source": [
    "%pylab inline\n",
    "petal_length = iris.data[:, iris.feature_names.index('petal length (cm)')]\n",
    "petal_width = iris.data[:, iris.feature_names.index('petal width (cm)')]\n",
    "sepal_length = iris.data[:, iris.feature_names.index('sepal length (cm)')]\n",
    "sepal_width = iris.data[:, iris.feature_names.index('sepal width (cm)')]\n",
    "\n",
    "for target in set(iris.target):\n",
    "    example_ids = target == iris.target\n",
    "    scatter(petal_length[example_ids], petal_width[example_ids],\n",
    "            label=iris.target_names[target], color='bgr'[target],\n",
    "            marker='o', alpha=0.8)\n",
    "    \n",
    "xlabel('petal length (cm)')\n",
    "ylabel('petal width (cm)')\n",
    "legend(loc='best');"
   ]
  },
  {
   "cell_type": "code",
   "execution_count": 80,
   "metadata": {
    "collapsed": false
   },
   "outputs": [
    {
     "data": {
      "image/png": "[encoded data removed]",
      "text/plain": [
       "<matplotlib.figure.Figure at 0x7f396c6def90>"
      ]
     },
     "metadata": {},
     "output_type": "display_data"
    }
   ],
   "source": [
    "hist(petal_width, bins=10) \n",
    "title(\"petal width (cm)\")\n",
    "show()"
   ]
  },
  {
   "cell_type": "markdown",
   "metadata": {},
   "source": [
    "## Problem 3 [2p]\n",
    "\n",
    "Implement the k-Nearest Neighbors algorithm. Try to\n",
    "take advantage of matrix calculus rather than using for loops.\n",
    "\n",
    "**Tip:** What is computed by \\begin{equation} \\sqrt{(X - Y)^T (X - Y)} \\end{equation} when both X and Y are vectors?\n",
    "\n",
    "**Tip:** Try to use broadcasting (NumPy: http://docs.scipy.org/doc/numpy/user/basics.broadcasting.html) and built-ins sort, numpy.sort, numpy.argsort (sorting), scipy.stats.mode (choosing the most common element of the set)."
   ]
  },
  {
   "cell_type": "code",
   "execution_count": 64,
   "metadata": {
    "collapsed": true
   },
   "outputs": [],
   "source": [
    "def kNearest(trainingSet, unknownSet, targetSet, targetArray, k):\n",
    "    petal_length = trainingSet[:, 2]\n",
    "    petal_width = trainingSet[:, 3]\n",
    "    train = np.hstack((np.reshape(petal_length, (-1, 1)), np.reshape(petal_width, (-1, 1))))\n",
    "    result = []\n",
    "    \n",
    "    for u_elem in unknownSet:\n",
    "        train -= u_elem #subtact the coordinates of the unknown element from each training element (through broadcasting)\n",
    "        train2 = np.multiply(train,train) #get squares of each coordinate's difference\n",
    "        distances = np.sqrt(train2[:,0]+train2[:,1]) #distance == sqrt of summed coordinate's difference squared \n",
    "        closest = np.argsort(distances)[:k] #get k closest elements' indexes\n",
    "\n",
    "        targets = []\n",
    "        for i in closest:\n",
    "            targets.append(targetSet[targetArray[i]])#find corresponding targets to found indexes in the training set\n",
    "        result.append(targets)\n",
    "                \n",
    "    return result"
   ]
  },
  {
   "cell_type": "code",
   "execution_count": 66,
   "metadata": {
    "collapsed": false
   },
   "outputs": [
    {
     "data": {
      "text/plain": [
       "[['setosa',\n",
       "  'setosa',\n",
       "  'setosa',\n",
       "  'setosa',\n",
       "  'setosa',\n",
       "  'setosa',\n",
       "  'setosa',\n",
       "  'setosa',\n",
       "  'setosa',\n",
       "  'setosa',\n",
       "  'setosa',\n",
       "  'setosa',\n",
       "  'setosa',\n",
       "  'setosa',\n",
       "  'setosa',\n",
       "  'setosa',\n",
       "  'setosa',\n",
       "  'setosa',\n",
       "  'setosa',\n",
       "  'setosa',\n",
       "  'setosa',\n",
       "  'setosa',\n",
       "  'setosa',\n",
       "  'setosa',\n",
       "  'setosa',\n",
       "  'setosa',\n",
       "  'setosa',\n",
       "  'setosa',\n",
       "  'setosa',\n",
       "  'setosa',\n",
       "  'setosa',\n",
       "  'setosa',\n",
       "  'setosa',\n",
       "  'setosa',\n",
       "  'setosa',\n",
       "  'setosa',\n",
       "  'setosa',\n",
       "  'setosa',\n",
       "  'setosa',\n",
       "  'setosa',\n",
       "  'setosa',\n",
       "  'setosa',\n",
       "  'setosa',\n",
       "  'setosa',\n",
       "  'setosa',\n",
       "  'setosa',\n",
       "  'setosa',\n",
       "  'setosa',\n",
       "  'setosa',\n",
       "  'setosa'],\n",
       " ['virginica',\n",
       "  'virginica',\n",
       "  'virginica',\n",
       "  'virginica',\n",
       "  'virginica',\n",
       "  'virginica',\n",
       "  'virginica',\n",
       "  'virginica',\n",
       "  'virginica',\n",
       "  'virginica',\n",
       "  'virginica',\n",
       "  'virginica',\n",
       "  'virginica',\n",
       "  'virginica',\n",
       "  'virginica',\n",
       "  'virginica',\n",
       "  'virginica',\n",
       "  'virginica',\n",
       "  'virginica',\n",
       "  'virginica',\n",
       "  'virginica',\n",
       "  'virginica',\n",
       "  'virginica',\n",
       "  'virginica',\n",
       "  'versicolor',\n",
       "  'virginica',\n",
       "  'virginica',\n",
       "  'virginica',\n",
       "  'virginica',\n",
       "  'virginica',\n",
       "  'virginica',\n",
       "  'virginica',\n",
       "  'virginica',\n",
       "  'virginica',\n",
       "  'virginica',\n",
       "  'virginica',\n",
       "  'versicolor',\n",
       "  'virginica',\n",
       "  'virginica',\n",
       "  'virginica',\n",
       "  'virginica',\n",
       "  'versicolor',\n",
       "  'versicolor',\n",
       "  'virginica',\n",
       "  'virginica',\n",
       "  'virginica',\n",
       "  'virginica',\n",
       "  'virginica',\n",
       "  'versicolor',\n",
       "  'virginica'],\n",
       " ['virginica',\n",
       "  'virginica',\n",
       "  'virginica',\n",
       "  'virginica',\n",
       "  'virginica',\n",
       "  'virginica',\n",
       "  'virginica',\n",
       "  'virginica',\n",
       "  'virginica',\n",
       "  'virginica',\n",
       "  'virginica',\n",
       "  'virginica',\n",
       "  'virginica',\n",
       "  'virginica',\n",
       "  'virginica',\n",
       "  'virginica',\n",
       "  'virginica',\n",
       "  'virginica',\n",
       "  'virginica',\n",
       "  'virginica',\n",
       "  'virginica',\n",
       "  'virginica',\n",
       "  'virginica',\n",
       "  'virginica',\n",
       "  'virginica',\n",
       "  'virginica',\n",
       "  'virginica',\n",
       "  'virginica',\n",
       "  'virginica',\n",
       "  'virginica',\n",
       "  'virginica',\n",
       "  'virginica',\n",
       "  'virginica',\n",
       "  'virginica',\n",
       "  'virginica',\n",
       "  'virginica',\n",
       "  'virginica',\n",
       "  'virginica',\n",
       "  'virginica',\n",
       "  'virginica',\n",
       "  'virginica',\n",
       "  'versicolor',\n",
       "  'virginica',\n",
       "  'virginica',\n",
       "  'versicolor',\n",
       "  'virginica',\n",
       "  'virginica',\n",
       "  'virginica',\n",
       "  'virginica',\n",
       "  'versicolor'],\n",
       " ['virginica',\n",
       "  'virginica',\n",
       "  'virginica',\n",
       "  'virginica',\n",
       "  'virginica',\n",
       "  'virginica',\n",
       "  'virginica',\n",
       "  'virginica',\n",
       "  'virginica',\n",
       "  'virginica',\n",
       "  'virginica',\n",
       "  'virginica',\n",
       "  'virginica',\n",
       "  'virginica',\n",
       "  'virginica',\n",
       "  'virginica',\n",
       "  'virginica',\n",
       "  'virginica',\n",
       "  'virginica',\n",
       "  'virginica',\n",
       "  'virginica',\n",
       "  'virginica',\n",
       "  'virginica',\n",
       "  'virginica',\n",
       "  'virginica',\n",
       "  'virginica',\n",
       "  'virginica',\n",
       "  'virginica',\n",
       "  'virginica',\n",
       "  'virginica',\n",
       "  'virginica',\n",
       "  'virginica',\n",
       "  'virginica',\n",
       "  'virginica',\n",
       "  'virginica',\n",
       "  'virginica',\n",
       "  'virginica',\n",
       "  'virginica',\n",
       "  'virginica',\n",
       "  'virginica',\n",
       "  'virginica',\n",
       "  'versicolor',\n",
       "  'virginica',\n",
       "  'virginica',\n",
       "  'versicolor',\n",
       "  'virginica',\n",
       "  'virginica',\n",
       "  'virginica',\n",
       "  'virginica',\n",
       "  'versicolor']]"
      ]
     },
     "execution_count": 66,
     "metadata": {},
     "output_type": "execute_result"
    }
   ],
   "source": [
    "iris = datasets.load_iris()\n",
    "unknown = np.array([\n",
    "    [1.5, 0.3],\n",
    "    [4.5, 1.2],\n",
    "    [5.5, 2.3],\n",
    "    [5.1, 1.7]\n",
    "])\n",
    "\n",
    "kNearest(iris.data, unknown, iris.target_names, iris.target, 50)"
   ]
  },
  {
   "cell_type": "markdown",
   "metadata": {},
   "source": [
    "## Problem 4 [2p]\n",
    "Consider the following experiment:\n",
    "1. We scramble the data and split it into two parts - training set (66.6% of all samples) and test set (33.4%).\n",
    "2. Based on the training set, we use the k-NN algorithm to predict the labels on the test set.\n",
    "3. We then check the number of errors and write it down.\n",
    "\n",
    "Do this 500 times for k ∈ {1, 3, 5, ..., 19}. Plot a function of the average number of errors\n",
    "as the function of k. It should be similar to the one below.\n",
    "\n",
    "<img src=\"knn.png\"/>"
   ]
  },
  {
   "cell_type": "code",
   "execution_count": 75,
   "metadata": {
    "collapsed": false
   },
   "outputs": [
    {
     "ename": "ValueError",
     "evalue": "operands could not be broadcast together with shapes (100,2) (4,) (100,2) ",
     "output_type": "error",
     "traceback": [
      "\u001b[0;31m---------------------------------------------------------------------------\u001b[0m",
      "\u001b[0;31mValueError\u001b[0m                                Traceback (most recent call last)",
      "\u001b[0;32m<ipython-input-75-744e6d47a652>\u001b[0m in \u001b[0;36m<module>\u001b[0;34m()\u001b[0m\n\u001b[1;32m     13\u001b[0m         \u001b[0mlabels\u001b[0m \u001b[0;34m=\u001b[0m \u001b[0miris\u001b[0m\u001b[0;34m.\u001b[0m\u001b[0mtarget\u001b[0m\u001b[0;34m[\u001b[0m\u001b[0mpermutation\u001b[0m\u001b[0;34m]\u001b[0m\u001b[0;34m\u001b[0m\u001b[0m\n\u001b[1;32m     14\u001b[0m \u001b[0;34m\u001b[0m\u001b[0m\n\u001b[0;32m---> 15\u001b[0;31m         \u001b[0mresult\u001b[0m \u001b[0;34m=\u001b[0m \u001b[0;34m(\u001b[0m\u001b[0mkNearest\u001b[0m\u001b[0;34m(\u001b[0m\u001b[0mdata\u001b[0m\u001b[0;34m[\u001b[0m\u001b[0;34m:\u001b[0m\u001b[0;36m100\u001b[0m\u001b[0;34m]\u001b[0m\u001b[0;34m,\u001b[0m \u001b[0mdata\u001b[0m\u001b[0;34m[\u001b[0m\u001b[0;36m100\u001b[0m\u001b[0;34m:\u001b[0m\u001b[0;34m]\u001b[0m\u001b[0;34m,\u001b[0m \u001b[0miris\u001b[0m\u001b[0;34m.\u001b[0m\u001b[0mtarget_names\u001b[0m\u001b[0;34m,\u001b[0m \u001b[0mlabels\u001b[0m\u001b[0;34m,\u001b[0m \u001b[0mk\u001b[0m\u001b[0;34m)\u001b[0m\u001b[0;34m)\u001b[0m\u001b[0;31m#.T == labels[100:])\u001b[0m\u001b[0;34m\u001b[0m\u001b[0m\n\u001b[0m\u001b[1;32m     16\u001b[0m         \u001b[0;32mprint\u001b[0m \u001b[0;34m(\u001b[0m\u001b[0mresult\u001b[0m\u001b[0;34m)\u001b[0m\u001b[0;34m\u001b[0m\u001b[0m\n\u001b[1;32m     17\u001b[0m         \u001b[0msuma\u001b[0m \u001b[0;34m+=\u001b[0m \u001b[0mnp\u001b[0m\u001b[0;34m.\u001b[0m\u001b[0mcount_nonzero\u001b[0m\u001b[0;34m(\u001b[0m\u001b[0mresult\u001b[0m \u001b[0;34m==\u001b[0m \u001b[0mFalse\u001b[0m\u001b[0;34m)\u001b[0m\u001b[0;34m\u001b[0m\u001b[0m\n",
      "\u001b[0;32m<ipython-input-64-bf4d22a53a72>\u001b[0m in \u001b[0;36mkNearest\u001b[0;34m(trainingSet, unknownSet, targetSet, targetArray, k)\u001b[0m\n\u001b[1;32m      6\u001b[0m \u001b[0;34m\u001b[0m\u001b[0m\n\u001b[1;32m      7\u001b[0m     \u001b[0;32mfor\u001b[0m \u001b[0mu_elem\u001b[0m \u001b[0;32min\u001b[0m \u001b[0munknownSet\u001b[0m\u001b[0;34m:\u001b[0m\u001b[0;34m\u001b[0m\u001b[0m\n\u001b[0;32m----> 8\u001b[0;31m         \u001b[0mtrain\u001b[0m \u001b[0;34m-=\u001b[0m \u001b[0mu_elem\u001b[0m \u001b[0;31m#subtact the coordinates of the unknown element from each training element (through broadcasting)\u001b[0m\u001b[0;34m\u001b[0m\u001b[0m\n\u001b[0m\u001b[1;32m      9\u001b[0m         \u001b[0mtrain2\u001b[0m \u001b[0;34m=\u001b[0m \u001b[0mnp\u001b[0m\u001b[0;34m.\u001b[0m\u001b[0mmultiply\u001b[0m\u001b[0;34m(\u001b[0m\u001b[0mtrain\u001b[0m\u001b[0;34m,\u001b[0m\u001b[0mtrain\u001b[0m\u001b[0;34m)\u001b[0m \u001b[0;31m#get squares of each coordinate's difference\u001b[0m\u001b[0;34m\u001b[0m\u001b[0m\n\u001b[1;32m     10\u001b[0m         \u001b[0mdistances\u001b[0m \u001b[0;34m=\u001b[0m \u001b[0mnp\u001b[0m\u001b[0;34m.\u001b[0m\u001b[0msqrt\u001b[0m\u001b[0;34m(\u001b[0m\u001b[0mtrain2\u001b[0m\u001b[0;34m[\u001b[0m\u001b[0;34m:\u001b[0m\u001b[0;34m,\u001b[0m\u001b[0;36m0\u001b[0m\u001b[0;34m]\u001b[0m\u001b[0;34m+\u001b[0m\u001b[0mtrain2\u001b[0m\u001b[0;34m[\u001b[0m\u001b[0;34m:\u001b[0m\u001b[0;34m,\u001b[0m\u001b[0;36m1\u001b[0m\u001b[0;34m]\u001b[0m\u001b[0;34m)\u001b[0m \u001b[0;31m#distance == sqrt of summed coordinate's difference squared\u001b[0m\u001b[0;34m\u001b[0m\u001b[0m\n",
      "\u001b[0;31mValueError\u001b[0m: operands could not be broadcast together with shapes (100,2) (4,) (100,2) "
     ]
    }
   ],
   "source": [
    "from sklearn import datasets\n",
    "import matplotlib.pyplot as plt\n",
    "\n",
    "iris = datasets.load_iris()\n",
    "\n",
    "errors = []\n",
    "for k in range(1,20, 2):\n",
    "    suma = 0\n",
    "    for i in range(500):\n",
    "        \n",
    "        permutation = np.random.permutation(np.linspace(0, 149, 150, endpoint=True, dtype=np.int))\n",
    "        data = iris.data[permutation]\n",
    "        labels = iris.target[permutation]\n",
    "    \n",
    "        result = (kNearest(data[:100], data[100:], iris.target_names, labels, k))#.T == labels[100:])\n",
    "        print (result)\n",
    "        suma += np.count_nonzero(result == False)\n",
    "    \n",
    "    errors.append(suma/500)\n",
    "\n",
    "# print(errors)\n",
    "plt.plot([i for i in range(1,20, 2)], errors, 'bo', [i for i in range(1,20, 2)], errors, 'b')\n",
    "plt.show()"
   ]
  },
  {
   "cell_type": "code",
   "execution_count": null,
   "metadata": {
    "collapsed": true
   },
   "outputs": [],
   "source": []
  },
  {
   "cell_type": "code",
   "execution_count": 69,
   "metadata": {
    "collapsed": false
   },
   "outputs": [
    {
     "data": {
      "text/plain": [
       "array([137, 148,  14,  98,  21,  72, 104,   5, 119,  47, 128, 127, 103,\n",
       "        49, 100,  92,  76,  90,  71,  18, 105,  10, 124, 149,  55, 122,\n",
       "       107,  64,  70,  30,   9,  65, 133,  45,   6,  95,  89,  37,   7,\n",
       "       116,  32, 101,  11,  15,  74, 132, 110,  81,  60,  53,  58, 108,\n",
       "        41,  82, 125, 121,  34,  12,  80,  19,  57,  31, 138,  39,  79,\n",
       "       109, 129,   8,  59,  85,  48, 136,  23, 134,  40, 142,  93,   2,\n",
       "        69,  84,  36,  28,  86,  62, 118, 130,  24,  54,  22,  17, 146,\n",
       "       139, 140,  73, 147,  16,  68,  50,  52,  44,  66,  96,  99, 131,\n",
       "         4, 120,  63, 123, 115,  13,  27,  94, 106,   1, 114,  88,  83,\n",
       "        56,  61,  67,  75, 113, 111, 144,   3,  33,  87,  35,   0,  42,\n",
       "        20,  78,  46, 126,  25,  51, 102,  26, 135,  97, 145,  38,  29,\n",
       "       143, 117,  91,  43,  77, 141, 112])"
      ]
     },
     "execution_count": 69,
     "metadata": {},
     "output_type": "execute_result"
    }
   ],
   "source": [
    "np.random.permutation(np.linspace(0, 149, 150, endpoint=True, dtype=np.int))"
   ]
  },
  {
   "cell_type": "code",
   "execution_count": 70,
   "metadata": {
    "collapsed": false
   },
   "outputs": [
    {
     "data": {
      "text/plain": [
       "array([ 1.4,  1.4,  1.3,  1.5,  1.4,  1.7,  1.4,  1.5,  1.4,  1.5,  1.5,\n",
       "        1.6,  1.4,  1.1,  1.2,  1.5,  1.3,  1.4,  1.7,  1.5,  1.7,  1.5,\n",
       "        1. ,  1.7,  1.9,  1.6,  1.6,  1.5,  1.4,  1.6,  1.6,  1.5,  1.5,\n",
       "        1.4,  1.5,  1.2,  1.3,  1.5,  1.3,  1.5,  1.3,  1.3,  1.3,  1.6,\n",
       "        1.9,  1.4,  1.6,  1.4,  1.5,  1.4,  4.7,  4.5,  4.9,  4. ,  4.6,\n",
       "        4.5,  4.7,  3.3,  4.6,  3.9,  3.5,  4.2,  4. ,  4.7,  3.6,  4.4,\n",
       "        4.5,  4.1,  4.5,  3.9,  4.8,  4. ,  4.9,  4.7,  4.3,  4.4,  4.8,\n",
       "        5. ,  4.5,  3.5,  3.8,  3.7,  3.9,  5.1,  4.5,  4.5,  4.7,  4.4,\n",
       "        4.1,  4. ,  4.4,  4.6,  4. ,  3.3,  4.2,  4.2,  4.2,  4.3,  3. ,\n",
       "        4.1,  6. ,  5.1,  5.9,  5.6,  5.8,  6.6,  4.5,  6.3,  5.8,  6.1,\n",
       "        5.1,  5.3,  5.5,  5. ,  5.1,  5.3,  5.5,  6.7,  6.9,  5. ,  5.7,\n",
       "        4.9,  6.7,  4.9,  5.7,  6. ,  4.8,  4.9,  5.6,  5.8,  6.1,  6.4,\n",
       "        5.6,  5.1,  5.6,  6.1,  5.6,  5.5,  4.8,  5.4,  5.6,  5.1,  5.1,\n",
       "        5.9,  5.7,  5.2,  5. ,  5.2,  5.4,  5.1])"
      ]
     },
     "execution_count": 70,
     "metadata": {},
     "output_type": "execute_result"
    }
   ],
   "source": [
    "iris.data[:,iris.feature_names.index('petal length (cm)')]"
   ]
  },
  {
   "cell_type": "code",
   "execution_count": 72,
   "metadata": {
    "collapsed": false
   },
   "outputs": [
    {
     "data": {
      "text/plain": [
       "array([ 6.7,  5. ,  4.7,  1.5,  5.6,  5.3,  4.2,  1.4,  1.9,  5.1,  3.6,\n",
       "        6.1,  1.3,  4.7,  5.4,  1.5,  5.6,  1.5,  6. ,  4. ,  1.7,  4.6,\n",
       "        3.3,  6.3,  5.6,  3.5,  4.9,  6.7,  5.1,  4.1,  1.3,  3.7,  5.1,\n",
       "        3.9,  4.8,  1.4,  1.6,  5.6,  4.6,  1.4,  3.3,  6. ,  4.2,  6.1,\n",
       "        5. ,  4.5,  1.7,  1.5,  5.4,  5.1,  1.4,  1.5,  1.4,  5. ,  4.5,\n",
       "        5.1,  4.8,  4.5,  5.8,  1.5,  4. ,  3. ,  5.7,  1.6,  5.1,  4.5,\n",
       "        6.4,  4.8,  5.7,  5.1,  1.5,  5.2,  1.6,  1.2,  4.3,  1.5,  5.8,\n",
       "        1.4,  1.7,  4.7,  5.5,  4.4,  4.5,  3.9,  4.5,  3.9,  1.4,  1.1,\n",
       "        1.4,  4.7,  1.6,  4.4,  4.5,  5. ,  4.1,  1.4,  5.1,  6.6,  4. ,\n",
       "        1.3,  3.5,  4.9,  4.2,  4.4,  5.8,  6.1,  5.6,  4. ,  1.6,  4.5,\n",
       "        1.4,  5.5,  1.5,  1.5,  4.4,  1.7,  4.8,  1.2,  4.7,  1.5,  4.3,\n",
       "        1.4,  1.3,  3.8,  6.9,  5.7,  1.5,  5.2,  5.9,  4.9,  4.2,  1.5,\n",
       "        1. ,  1.3,  1.6,  1.6,  1.3,  1.4,  5.3,  5.6,  4. ,  1.3,  1.9,\n",
       "        4.9,  4.6,  1.5,  5.5,  4.1,  4.9,  5.9])"
      ]
     },
     "execution_count": 72,
     "metadata": {},
     "output_type": "execute_result"
    }
   ],
   "source": [
    "iris.data[:,iris.feature_names.index('petal length (cm)')][permutation]"
   ]
  },
  {
   "cell_type": "code",
   "execution_count": 73,
   "metadata": {
    "collapsed": false
   },
   "outputs": [
    {
     "data": {
      "text/plain": [
       "array([[ 7.7,  2.8,  6.7,  2. ],\n",
       "       [ 6.3,  2.5,  5. ,  1.9],\n",
       "       [ 6.7,  3.1,  4.7,  1.5],\n",
       "       [ 5.2,  3.5,  1.5,  0.2],\n",
       "       [ 6.1,  2.6,  5.6,  1.4],\n",
       "       [ 6.4,  2.7,  5.3,  1.9],\n",
       "       [ 5.9,  3. ,  4.2,  1.5],\n",
       "       [ 5.2,  3.4,  1.4,  0.2],\n",
       "       [ 4.8,  3.4,  1.9,  0.2],\n",
       "       [ 5.9,  3. ,  5.1,  1.8],\n",
       "       [ 5.6,  2.9,  3.6,  1.3],\n",
       "       [ 7.4,  2.8,  6.1,  1.9],\n",
       "       [ 4.4,  3.2,  1.3,  0.2],\n",
       "       [ 7. ,  3.2,  4.7,  1.4],\n",
       "       [ 6.9,  3.1,  5.4,  2.1],\n",
       "       [ 5.1,  3.7,  1.5,  0.4],\n",
       "       [ 6.7,  3.1,  5.6,  2.4],\n",
       "       [ 4.9,  3.1,  1.5,  0.1],\n",
       "       [ 7.2,  3.2,  6. ,  1.8],\n",
       "       [ 5.5,  2.3,  4. ,  1.3],\n",
       "       [ 5.7,  3.8,  1.7,  0.3],\n",
       "       [ 6.5,  2.8,  4.6,  1.5],\n",
       "       [ 5. ,  2.3,  3.3,  1. ],\n",
       "       [ 7.3,  2.9,  6.3,  1.8],\n",
       "       [ 6.4,  2.8,  5.6,  2.2],\n",
       "       [ 5.7,  2.6,  3.5,  1. ],\n",
       "       [ 6.9,  3.1,  4.9,  1.5],\n",
       "       [ 7.7,  3.8,  6.7,  2.2],\n",
       "       [ 6.3,  2.8,  5.1,  1.5],\n",
       "       [ 5.7,  2.8,  4.1,  1.3],\n",
       "       [ 4.5,  2.3,  1.3,  0.3],\n",
       "       [ 5.5,  2.4,  3.7,  1. ],\n",
       "       [ 6.9,  3.1,  5.1,  2.3],\n",
       "       [ 5.8,  2.7,  3.9,  1.2],\n",
       "       [ 6.8,  2.8,  4.8,  1.4],\n",
       "       [ 4.9,  3. ,  1.4,  0.2],\n",
       "       [ 5. ,  3.5,  1.6,  0.6],\n",
       "       [ 6.3,  3.4,  5.6,  2.4],\n",
       "       [ 6.6,  2.9,  4.6,  1.3],\n",
       "       [ 4.4,  2.9,  1.4,  0.2],\n",
       "       [ 4.9,  2.4,  3.3,  1. ],\n",
       "       [ 6.3,  3.3,  6. ,  2.5],\n",
       "       [ 5.6,  2.7,  4.2,  1.3],\n",
       "       [ 7.2,  3.6,  6.1,  2.5],\n",
       "       [ 6. ,  2.2,  5. ,  1.5],\n",
       "       [ 6.4,  3.2,  4.5,  1.5],\n",
       "       [ 5.4,  3.4,  1.7,  0.2],\n",
       "       [ 5.1,  3.4,  1.5,  0.2],\n",
       "       [ 6.2,  3.4,  5.4,  2.3],\n",
       "       [ 5.8,  2.7,  5.1,  1.9],\n",
       "       [ 4.8,  3. ,  1.4,  0.3],\n",
       "       [ 5.1,  3.8,  1.5,  0.3],\n",
       "       [ 5.1,  3.5,  1.4,  0.3],\n",
       "       [ 5.7,  2.5,  5. ,  2. ],\n",
       "       [ 6.2,  2.2,  4.5,  1.5],\n",
       "       [ 5.8,  2.8,  5.1,  2.4],\n",
       "       [ 6. ,  3. ,  4.8,  1.8],\n",
       "       [ 6. ,  2.9,  4.5,  1.5],\n",
       "       [ 7.2,  3. ,  5.8,  1.6],\n",
       "       [ 5.3,  3.7,  1.5,  0.2],\n",
       "       [ 5.8,  2.6,  4. ,  1.2],\n",
       "       [ 5.1,  2.5,  3. ,  1.1],\n",
       "       [ 6.9,  3.2,  5.7,  2.3],\n",
       "       [ 5. ,  3. ,  1.6,  0.2],\n",
       "       [ 5.8,  2.7,  5.1,  1.9],\n",
       "       [ 5.7,  2.8,  4.5,  1.3],\n",
       "       [ 7.9,  3.8,  6.4,  2. ],\n",
       "       [ 6.2,  2.8,  4.8,  1.8],\n",
       "       [ 6.7,  3.3,  5.7,  2.1],\n",
       "       [ 6.5,  3.2,  5.1,  2. ],\n",
       "       [ 4.9,  3.1,  1.5,  0.1],\n",
       "       [ 6.5,  3. ,  5.2,  2. ],\n",
       "       [ 4.7,  3.2,  1.6,  0.2],\n",
       "       [ 5. ,  3.2,  1.2,  0.2],\n",
       "       [ 6.2,  2.9,  4.3,  1.3],\n",
       "       [ 4.9,  3.1,  1.5,  0.1],\n",
       "       [ 6.5,  3. ,  5.8,  2.2],\n",
       "       [ 5. ,  3.3,  1.4,  0.2],\n",
       "       [ 5.4,  3.9,  1.7,  0.4],\n",
       "       [ 6.1,  2.8,  4.7,  1.2],\n",
       "       [ 6.8,  3. ,  5.5,  2.1],\n",
       "       [ 6.3,  2.3,  4.4,  1.3],\n",
       "       [ 5.4,  3. ,  4.5,  1.5],\n",
       "       [ 5.6,  2.5,  3.9,  1.1],\n",
       "       [ 5.6,  3. ,  4.5,  1.5],\n",
       "       [ 5.2,  2.7,  3.9,  1.4],\n",
       "       [ 5.1,  3.5,  1.4,  0.2],\n",
       "       [ 4.3,  3. ,  1.1,  0.1],\n",
       "       [ 5.5,  4.2,  1.4,  0.2],\n",
       "       [ 6.3,  3.3,  4.7,  1.6],\n",
       "       [ 5.1,  3.8,  1.6,  0.2],\n",
       "       [ 5.5,  2.6,  4.4,  1.2],\n",
       "       [ 4.9,  2.5,  4.5,  1.7],\n",
       "       [ 6.7,  3. ,  5. ,  1.7],\n",
       "       [ 5.8,  2.7,  4.1,  1. ],\n",
       "       [ 4.6,  3.2,  1.4,  0.2],\n",
       "       [ 6. ,  2.7,  5.1,  1.6],\n",
       "       [ 7.6,  3. ,  6.6,  2.1],\n",
       "       [ 6.1,  2.8,  4. ,  1.3],\n",
       "       [ 5.5,  3.5,  1.3,  0.2],\n",
       "       [ 5. ,  2. ,  3.5,  1. ],\n",
       "       [ 5.6,  2.8,  4.9,  2. ],\n",
       "       [ 5.7,  2.9,  4.2,  1.3],\n",
       "       [ 6.7,  3.1,  4.4,  1.4],\n",
       "       [ 6.7,  2.5,  5.8,  1.8],\n",
       "       [ 7.7,  3. ,  6.1,  2.3],\n",
       "       [ 6.4,  2.8,  5.6,  2.1],\n",
       "       [ 5.5,  2.5,  4. ,  1.3],\n",
       "       [ 5. ,  3.4,  1.6,  0.4],\n",
       "       [ 6. ,  3.4,  4.5,  1.6],\n",
       "       [ 5. ,  3.6,  1.4,  0.2],\n",
       "       [ 6.4,  3.1,  5.5,  1.8],\n",
       "       [ 5.4,  3.4,  1.5,  0.4],\n",
       "       [ 5. ,  3.4,  1.5,  0.2],\n",
       "       [ 6.6,  3. ,  4.4,  1.4],\n",
       "       [ 5.1,  3.3,  1.7,  0.5],\n",
       "       [ 5.9,  3.2,  4.8,  1.8],\n",
       "       [ 5.8,  4. ,  1.2,  0.2],\n",
       "       [ 6.1,  2.9,  4.7,  1.4],\n",
       "       [ 5.2,  4.1,  1.5,  0.1],\n",
       "       [ 6.4,  2.9,  4.3,  1.3],\n",
       "       [ 4.6,  3.4,  1.4,  0.3],\n",
       "       [ 4.7,  3.2,  1.3,  0.2],\n",
       "       [ 5.5,  2.4,  3.8,  1.1],\n",
       "       [ 7.7,  2.6,  6.9,  2.3],\n",
       "       [ 6.7,  3.3,  5.7,  2.5],\n",
       "       [ 4.6,  3.1,  1.5,  0.2],\n",
       "       [ 6.7,  3. ,  5.2,  2.3],\n",
       "       [ 6.8,  3.2,  5.9,  2.3],\n",
       "       [ 6.1,  3. ,  4.9,  1.8],\n",
       "       [ 5.7,  3. ,  4.2,  1.2],\n",
       "       [ 5.7,  4.4,  1.5,  0.4],\n",
       "       [ 4.6,  3.6,  1. ,  0.2],\n",
       "       [ 4.4,  3. ,  1.3,  0.2],\n",
       "       [ 4.8,  3.1,  1.6,  0.2],\n",
       "       [ 4.8,  3.4,  1.6,  0.2],\n",
       "       [ 5.4,  3.9,  1.3,  0.4],\n",
       "       [ 4.8,  3. ,  1.4,  0.1],\n",
       "       [ 6.4,  3.2,  5.3,  2.3],\n",
       "       [ 6.3,  2.9,  5.6,  1.8],\n",
       "       [ 6. ,  2.2,  4. ,  1. ],\n",
       "       [ 5. ,  3.5,  1.3,  0.3],\n",
       "       [ 5.1,  3.8,  1.9,  0.4],\n",
       "       [ 6.3,  2.7,  4.9,  1.8],\n",
       "       [ 6.1,  3. ,  4.6,  1.4],\n",
       "       [ 5.4,  3.7,  1.5,  0.2],\n",
       "       [ 6.5,  3. ,  5.5,  1.8],\n",
       "       [ 5.6,  3. ,  4.1,  1.3],\n",
       "       [ 6.3,  2.5,  4.9,  1.5],\n",
       "       [ 7.1,  3. ,  5.9,  2.1]])"
      ]
     },
     "execution_count": 73,
     "metadata": {},
     "output_type": "execute_result"
    }
   ],
   "source": [
    "iris.data[permutation]"
   ]
  }
 ],
 "metadata": {
  "anaconda-cloud": {},
  "kernelspec": {
   "display_name": "Python 2",
   "language": "python",
   "name": "python2"
  },
  "language_info": {
   "codemirror_mode": {
    "name": "ipython",
    "version": 2
   },
   "file_extension": ".py",
   "mimetype": "text/x-python",
   "name": "python",
   "nbconvert_exporter": "python",
   "pygments_lexer": "ipython2",
   "version": "2.7.13"
  }
 },
 "nbformat": 4,
 "nbformat_minor": 1
}
